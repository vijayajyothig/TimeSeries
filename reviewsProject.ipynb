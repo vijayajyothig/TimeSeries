{
 "cells": [
  {
   "cell_type": "markdown",
   "id": "f6b73071",
   "metadata": {},
   "source": [
    "### Task to perform:\n",
    "\n",
    "1. Analyze the customer reviews data, perform EDA and statistical tests to gather insights about the products.\n",
    "    \n",
    "    a. Highest and lowest rating for the products. Percentage wise product ratings for the entire data.\n",
    "   \n",
    "    b. Total number of reviews by unique profiles. How many customers or profiles have reviewed more than one product?\n",
    "\n",
    "\n",
    "2. Perform sentiment analysis on the reviews data, and classify the reviews based on the sentiment associated with the same."
   ]
  },
  {
   "cell_type": "code",
   "execution_count": 1,
   "id": "924266b0",
   "metadata": {},
   "outputs": [],
   "source": [
    "import pandas as pd\n",
    "import numpy as np\n",
    "import nltk\n",
    "import string\n",
    "import matplotlib.pyplot as plt\n",
    "%matplotlib inline\n",
    "import seaborn as sns\n",
    "from tqdm import tqdm # tqdm is for printing the status bar\n",
    "from bs4 import BeautifulSoup\n",
    "# library for splitting the dataset\n",
    "from sklearn.model_selection import train_test_split\n",
    "# libraries for featurization\n",
    "from sklearn.feature_extraction.text import TfidfVectorizer\n",
    "from sklearn.feature_extraction.text import CountVectorizer\n",
    "from sklearn.preprocessing import Normalizer\n",
    "# library for modeling\n",
    "from sklearn.naive_bayes import MultinomialNB\n",
    "# library for hyperparameter tuning\n",
    "from sklearn.model_selection import GridSearchCV\n",
    "# evaluation of model\n",
    "from sklearn.metrics import confusion_matrix\n",
    "from sklearn import metrics\n",
    "from sklearn.metrics import roc_curve, auc\n",
    "import re\n",
    "import warnings\n",
    "warnings.filterwarnings(\"ignore\")"
   ]
  },
  {
   "cell_type": "code",
   "execution_count": 2,
   "id": "8d2ba09e",
   "metadata": {},
   "outputs": [],
   "source": [
    "df=pd.read_csv(\"Reviews (1).csv\")"
   ]
  },
  {
   "cell_type": "code",
   "execution_count": 3,
   "id": "fb189c97",
   "metadata": {},
   "outputs": [
    {
     "data": {
      "text/html": [
       "<div>\n",
       "<style scoped>\n",
       "    .dataframe tbody tr th:only-of-type {\n",
       "        vertical-align: middle;\n",
       "    }\n",
       "\n",
       "    .dataframe tbody tr th {\n",
       "        vertical-align: top;\n",
       "    }\n",
       "\n",
       "    .dataframe thead th {\n",
       "        text-align: right;\n",
       "    }\n",
       "</style>\n",
       "<table border=\"1\" class=\"dataframe\">\n",
       "  <thead>\n",
       "    <tr style=\"text-align: right;\">\n",
       "      <th></th>\n",
       "      <th>Id</th>\n",
       "      <th>ProductId</th>\n",
       "      <th>UserId</th>\n",
       "      <th>ProfileName</th>\n",
       "      <th>HelpfulnessNumerator</th>\n",
       "      <th>HelpfulnessDenominator</th>\n",
       "      <th>Score</th>\n",
       "      <th>Time</th>\n",
       "      <th>Summary</th>\n",
       "      <th>Text</th>\n",
       "    </tr>\n",
       "  </thead>\n",
       "  <tbody>\n",
       "    <tr>\n",
       "      <th>0</th>\n",
       "      <td>1</td>\n",
       "      <td>B001E4KFG0</td>\n",
       "      <td>A3SGXH7AUHU8GW</td>\n",
       "      <td>delmartian</td>\n",
       "      <td>1</td>\n",
       "      <td>1</td>\n",
       "      <td>5</td>\n",
       "      <td>1303862400</td>\n",
       "      <td>Good Quality Dog Food</td>\n",
       "      <td>I have bought several of the Vitality canned d...</td>\n",
       "    </tr>\n",
       "    <tr>\n",
       "      <th>1</th>\n",
       "      <td>2</td>\n",
       "      <td>B00813GRG4</td>\n",
       "      <td>A1D87F6ZCVE5NK</td>\n",
       "      <td>dll pa</td>\n",
       "      <td>0</td>\n",
       "      <td>0</td>\n",
       "      <td>1</td>\n",
       "      <td>1346976000</td>\n",
       "      <td>Not as Advertised</td>\n",
       "      <td>Product arrived labeled as Jumbo Salted Peanut...</td>\n",
       "    </tr>\n",
       "    <tr>\n",
       "      <th>2</th>\n",
       "      <td>3</td>\n",
       "      <td>B000LQOCH0</td>\n",
       "      <td>ABXLMWJIXXAIN</td>\n",
       "      <td>Natalia Corres \"Natalia Corres\"</td>\n",
       "      <td>1</td>\n",
       "      <td>1</td>\n",
       "      <td>4</td>\n",
       "      <td>1219017600</td>\n",
       "      <td>\"Delight\" says it all</td>\n",
       "      <td>This is a confection that has been around a fe...</td>\n",
       "    </tr>\n",
       "    <tr>\n",
       "      <th>3</th>\n",
       "      <td>4</td>\n",
       "      <td>B000UA0QIQ</td>\n",
       "      <td>A395BORC6FGVXV</td>\n",
       "      <td>Karl</td>\n",
       "      <td>3</td>\n",
       "      <td>3</td>\n",
       "      <td>2</td>\n",
       "      <td>1307923200</td>\n",
       "      <td>Cough Medicine</td>\n",
       "      <td>If you are looking for the secret ingredient i...</td>\n",
       "    </tr>\n",
       "    <tr>\n",
       "      <th>4</th>\n",
       "      <td>5</td>\n",
       "      <td>B006K2ZZ7K</td>\n",
       "      <td>A1UQRSCLF8GW1T</td>\n",
       "      <td>Michael D. Bigham \"M. Wassir\"</td>\n",
       "      <td>0</td>\n",
       "      <td>0</td>\n",
       "      <td>5</td>\n",
       "      <td>1350777600</td>\n",
       "      <td>Great taffy</td>\n",
       "      <td>Great taffy at a great price.  There was a wid...</td>\n",
       "    </tr>\n",
       "  </tbody>\n",
       "</table>\n",
       "</div>"
      ],
      "text/plain": [
       "   Id   ProductId          UserId                      ProfileName  \\\n",
       "0   1  B001E4KFG0  A3SGXH7AUHU8GW                       delmartian   \n",
       "1   2  B00813GRG4  A1D87F6ZCVE5NK                           dll pa   \n",
       "2   3  B000LQOCH0   ABXLMWJIXXAIN  Natalia Corres \"Natalia Corres\"   \n",
       "3   4  B000UA0QIQ  A395BORC6FGVXV                             Karl   \n",
       "4   5  B006K2ZZ7K  A1UQRSCLF8GW1T    Michael D. Bigham \"M. Wassir\"   \n",
       "\n",
       "   HelpfulnessNumerator  HelpfulnessDenominator  Score        Time  \\\n",
       "0                     1                       1      5  1303862400   \n",
       "1                     0                       0      1  1346976000   \n",
       "2                     1                       1      4  1219017600   \n",
       "3                     3                       3      2  1307923200   \n",
       "4                     0                       0      5  1350777600   \n",
       "\n",
       "                 Summary                                               Text  \n",
       "0  Good Quality Dog Food  I have bought several of the Vitality canned d...  \n",
       "1      Not as Advertised  Product arrived labeled as Jumbo Salted Peanut...  \n",
       "2  \"Delight\" says it all  This is a confection that has been around a fe...  \n",
       "3         Cough Medicine  If you are looking for the secret ingredient i...  \n",
       "4            Great taffy  Great taffy at a great price.  There was a wid...  "
      ]
     },
     "execution_count": 3,
     "metadata": {},
     "output_type": "execute_result"
    }
   ],
   "source": [
    "df.head()"
   ]
  },
  {
   "cell_type": "code",
   "execution_count": 4,
   "id": "6837c8bd",
   "metadata": {},
   "outputs": [
    {
     "data": {
      "text/plain": [
       "(568454, 10)"
      ]
     },
     "execution_count": 4,
     "metadata": {},
     "output_type": "execute_result"
    }
   ],
   "source": [
    "df.shape"
   ]
  },
  {
   "cell_type": "code",
   "execution_count": 5,
   "id": "51d7e19e",
   "metadata": {},
   "outputs": [
    {
     "data": {
      "text/plain": [
       "Index(['Id', 'ProductId', 'UserId', 'ProfileName', 'HelpfulnessNumerator',\n",
       "       'HelpfulnessDenominator', 'Score', 'Time', 'Summary', 'Text'],\n",
       "      dtype='object')"
      ]
     },
     "execution_count": 5,
     "metadata": {},
     "output_type": "execute_result"
    }
   ],
   "source": [
    "df.columns"
   ]
  },
  {
   "cell_type": "code",
   "execution_count": 6,
   "id": "9edd0fe7",
   "metadata": {},
   "outputs": [
    {
     "name": "stdout",
     "output_type": "stream",
     "text": [
      "<class 'pandas.core.frame.DataFrame'>\n",
      "RangeIndex: 568454 entries, 0 to 568453\n",
      "Data columns (total 10 columns):\n",
      " #   Column                  Non-Null Count   Dtype \n",
      "---  ------                  --------------   ----- \n",
      " 0   Id                      568454 non-null  int64 \n",
      " 1   ProductId               568454 non-null  object\n",
      " 2   UserId                  568454 non-null  object\n",
      " 3   ProfileName             568438 non-null  object\n",
      " 4   HelpfulnessNumerator    568454 non-null  int64 \n",
      " 5   HelpfulnessDenominator  568454 non-null  int64 \n",
      " 6   Score                   568454 non-null  int64 \n",
      " 7   Time                    568454 non-null  int64 \n",
      " 8   Summary                 568427 non-null  object\n",
      " 9   Text                    568454 non-null  object\n",
      "dtypes: int64(5), object(5)\n",
      "memory usage: 43.4+ MB\n"
     ]
    }
   ],
   "source": [
    "df.info()"
   ]
  },
  {
   "cell_type": "code",
   "execution_count": 7,
   "id": "27690698",
   "metadata": {},
   "outputs": [
    {
     "data": {
      "text/html": [
       "<div>\n",
       "<style scoped>\n",
       "    .dataframe tbody tr th:only-of-type {\n",
       "        vertical-align: middle;\n",
       "    }\n",
       "\n",
       "    .dataframe tbody tr th {\n",
       "        vertical-align: top;\n",
       "    }\n",
       "\n",
       "    .dataframe thead th {\n",
       "        text-align: right;\n",
       "    }\n",
       "</style>\n",
       "<table border=\"1\" class=\"dataframe\">\n",
       "  <thead>\n",
       "    <tr style=\"text-align: right;\">\n",
       "      <th></th>\n",
       "      <th>Id</th>\n",
       "      <th>ProductId</th>\n",
       "      <th>UserId</th>\n",
       "      <th>ProfileName</th>\n",
       "      <th>HelpfulnessNumerator</th>\n",
       "      <th>HelpfulnessDenominator</th>\n",
       "      <th>Score</th>\n",
       "      <th>Time</th>\n",
       "      <th>Summary</th>\n",
       "      <th>Text</th>\n",
       "    </tr>\n",
       "  </thead>\n",
       "  <tbody>\n",
       "    <tr>\n",
       "      <th>0</th>\n",
       "      <td>1</td>\n",
       "      <td>B001E4KFG0</td>\n",
       "      <td>A3SGXH7AUHU8GW</td>\n",
       "      <td>delmartian</td>\n",
       "      <td>1</td>\n",
       "      <td>1</td>\n",
       "      <td>5</td>\n",
       "      <td>2011-04-27</td>\n",
       "      <td>Good Quality Dog Food</td>\n",
       "      <td>I have bought several of the Vitality canned d...</td>\n",
       "    </tr>\n",
       "    <tr>\n",
       "      <th>1</th>\n",
       "      <td>2</td>\n",
       "      <td>B00813GRG4</td>\n",
       "      <td>A1D87F6ZCVE5NK</td>\n",
       "      <td>dll pa</td>\n",
       "      <td>0</td>\n",
       "      <td>0</td>\n",
       "      <td>1</td>\n",
       "      <td>2012-09-07</td>\n",
       "      <td>Not as Advertised</td>\n",
       "      <td>Product arrived labeled as Jumbo Salted Peanut...</td>\n",
       "    </tr>\n",
       "    <tr>\n",
       "      <th>2</th>\n",
       "      <td>3</td>\n",
       "      <td>B000LQOCH0</td>\n",
       "      <td>ABXLMWJIXXAIN</td>\n",
       "      <td>Natalia Corres \"Natalia Corres\"</td>\n",
       "      <td>1</td>\n",
       "      <td>1</td>\n",
       "      <td>4</td>\n",
       "      <td>2008-08-18</td>\n",
       "      <td>\"Delight\" says it all</td>\n",
       "      <td>This is a confection that has been around a fe...</td>\n",
       "    </tr>\n",
       "    <tr>\n",
       "      <th>3</th>\n",
       "      <td>4</td>\n",
       "      <td>B000UA0QIQ</td>\n",
       "      <td>A395BORC6FGVXV</td>\n",
       "      <td>Karl</td>\n",
       "      <td>3</td>\n",
       "      <td>3</td>\n",
       "      <td>2</td>\n",
       "      <td>2011-06-13</td>\n",
       "      <td>Cough Medicine</td>\n",
       "      <td>If you are looking for the secret ingredient i...</td>\n",
       "    </tr>\n",
       "    <tr>\n",
       "      <th>4</th>\n",
       "      <td>5</td>\n",
       "      <td>B006K2ZZ7K</td>\n",
       "      <td>A1UQRSCLF8GW1T</td>\n",
       "      <td>Michael D. Bigham \"M. Wassir\"</td>\n",
       "      <td>0</td>\n",
       "      <td>0</td>\n",
       "      <td>5</td>\n",
       "      <td>2012-10-21</td>\n",
       "      <td>Great taffy</td>\n",
       "      <td>Great taffy at a great price.  There was a wid...</td>\n",
       "    </tr>\n",
       "  </tbody>\n",
       "</table>\n",
       "</div>"
      ],
      "text/plain": [
       "   Id   ProductId          UserId                      ProfileName  \\\n",
       "0   1  B001E4KFG0  A3SGXH7AUHU8GW                       delmartian   \n",
       "1   2  B00813GRG4  A1D87F6ZCVE5NK                           dll pa   \n",
       "2   3  B000LQOCH0   ABXLMWJIXXAIN  Natalia Corres \"Natalia Corres\"   \n",
       "3   4  B000UA0QIQ  A395BORC6FGVXV                             Karl   \n",
       "4   5  B006K2ZZ7K  A1UQRSCLF8GW1T    Michael D. Bigham \"M. Wassir\"   \n",
       "\n",
       "   HelpfulnessNumerator  HelpfulnessDenominator  Score       Time  \\\n",
       "0                     1                       1      5 2011-04-27   \n",
       "1                     0                       0      1 2012-09-07   \n",
       "2                     1                       1      4 2008-08-18   \n",
       "3                     3                       3      2 2011-06-13   \n",
       "4                     0                       0      5 2012-10-21   \n",
       "\n",
       "                 Summary                                               Text  \n",
       "0  Good Quality Dog Food  I have bought several of the Vitality canned d...  \n",
       "1      Not as Advertised  Product arrived labeled as Jumbo Salted Peanut...  \n",
       "2  \"Delight\" says it all  This is a confection that has been around a fe...  \n",
       "3         Cough Medicine  If you are looking for the secret ingredient i...  \n",
       "4            Great taffy  Great taffy at a great price.  There was a wid...  "
      ]
     },
     "execution_count": 7,
     "metadata": {},
     "output_type": "execute_result"
    }
   ],
   "source": [
    "# Convert the Time column to a datetime object\n",
    "df['Time'] = pd.to_datetime(df['Time'], unit='s')\n",
    "df.head(5)"
   ]
  },
  {
   "cell_type": "code",
   "execution_count": 8,
   "id": "959b2f12",
   "metadata": {},
   "outputs": [
    {
     "data": {
      "text/html": [
       "<div>\n",
       "<style scoped>\n",
       "    .dataframe tbody tr th:only-of-type {\n",
       "        vertical-align: middle;\n",
       "    }\n",
       "\n",
       "    .dataframe tbody tr th {\n",
       "        vertical-align: top;\n",
       "    }\n",
       "\n",
       "    .dataframe thead th {\n",
       "        text-align: right;\n",
       "    }\n",
       "</style>\n",
       "<table border=\"1\" class=\"dataframe\">\n",
       "  <thead>\n",
       "    <tr style=\"text-align: right;\">\n",
       "      <th></th>\n",
       "      <th>count</th>\n",
       "      <th>mean</th>\n",
       "      <th>std</th>\n",
       "      <th>min</th>\n",
       "      <th>25%</th>\n",
       "      <th>50%</th>\n",
       "      <th>75%</th>\n",
       "      <th>max</th>\n",
       "    </tr>\n",
       "  </thead>\n",
       "  <tbody>\n",
       "    <tr>\n",
       "      <th>Id</th>\n",
       "      <td>568454.0</td>\n",
       "      <td>284227.500000</td>\n",
       "      <td>164098.679298</td>\n",
       "      <td>1.0</td>\n",
       "      <td>142114.25</td>\n",
       "      <td>284227.5</td>\n",
       "      <td>426340.75</td>\n",
       "      <td>568454.0</td>\n",
       "    </tr>\n",
       "    <tr>\n",
       "      <th>HelpfulnessNumerator</th>\n",
       "      <td>568454.0</td>\n",
       "      <td>1.743817</td>\n",
       "      <td>7.636513</td>\n",
       "      <td>0.0</td>\n",
       "      <td>0.00</td>\n",
       "      <td>0.0</td>\n",
       "      <td>2.00</td>\n",
       "      <td>866.0</td>\n",
       "    </tr>\n",
       "    <tr>\n",
       "      <th>HelpfulnessDenominator</th>\n",
       "      <td>568454.0</td>\n",
       "      <td>2.228810</td>\n",
       "      <td>8.289740</td>\n",
       "      <td>0.0</td>\n",
       "      <td>0.00</td>\n",
       "      <td>1.0</td>\n",
       "      <td>2.00</td>\n",
       "      <td>923.0</td>\n",
       "    </tr>\n",
       "    <tr>\n",
       "      <th>Score</th>\n",
       "      <td>568454.0</td>\n",
       "      <td>4.183199</td>\n",
       "      <td>1.310436</td>\n",
       "      <td>1.0</td>\n",
       "      <td>4.00</td>\n",
       "      <td>5.0</td>\n",
       "      <td>5.00</td>\n",
       "      <td>5.0</td>\n",
       "    </tr>\n",
       "  </tbody>\n",
       "</table>\n",
       "</div>"
      ],
      "text/plain": [
       "                           count           mean            std  min  \\\n",
       "Id                      568454.0  284227.500000  164098.679298  1.0   \n",
       "HelpfulnessNumerator    568454.0       1.743817       7.636513  0.0   \n",
       "HelpfulnessDenominator  568454.0       2.228810       8.289740  0.0   \n",
       "Score                   568454.0       4.183199       1.310436  1.0   \n",
       "\n",
       "                              25%       50%        75%       max  \n",
       "Id                      142114.25  284227.5  426340.75  568454.0  \n",
       "HelpfulnessNumerator         0.00       0.0       2.00     866.0  \n",
       "HelpfulnessDenominator       0.00       1.0       2.00     923.0  \n",
       "Score                        4.00       5.0       5.00       5.0  "
      ]
     },
     "execution_count": 8,
     "metadata": {},
     "output_type": "execute_result"
    }
   ],
   "source": [
    "df.describe().transpose()"
   ]
  },
  {
   "cell_type": "code",
   "execution_count": 9,
   "id": "bcf5582b",
   "metadata": {},
   "outputs": [
    {
     "data": {
      "text/plain": [
       "Id                         0\n",
       "ProductId                  0\n",
       "UserId                     0\n",
       "ProfileName               16\n",
       "HelpfulnessNumerator       0\n",
       "HelpfulnessDenominator     0\n",
       "Score                      0\n",
       "Time                       0\n",
       "Summary                   27\n",
       "Text                       0\n",
       "dtype: int64"
      ]
     },
     "execution_count": 9,
     "metadata": {},
     "output_type": "execute_result"
    }
   ],
   "source": [
    "df.isna().sum()"
   ]
  },
  {
   "cell_type": "code",
   "execution_count": 10,
   "id": "1a685ccf",
   "metadata": {},
   "outputs": [],
   "source": [
    "# Replace null values in 'ProfileName' column with empty string\n",
    "df['ProfileName'].fillna(value='', inplace=True)"
   ]
  },
  {
   "cell_type": "code",
   "execution_count": 11,
   "id": "4d9f02fd",
   "metadata": {},
   "outputs": [],
   "source": [
    "df['Summary'].fillna(df['Summary'].mode()[0], inplace=True)"
   ]
  },
  {
   "cell_type": "code",
   "execution_count": 12,
   "id": "376c39ff",
   "metadata": {},
   "outputs": [
    {
     "data": {
      "text/plain": [
       "5"
      ]
     },
     "execution_count": 12,
     "metadata": {},
     "output_type": "execute_result"
    }
   ],
   "source": [
    "#Highest Rating\n",
    "df['Score'].max()"
   ]
  },
  {
   "cell_type": "code",
   "execution_count": 13,
   "id": "8cddfb6e",
   "metadata": {},
   "outputs": [
    {
     "data": {
      "text/plain": [
       "1"
      ]
     },
     "execution_count": 13,
     "metadata": {},
     "output_type": "execute_result"
    }
   ],
   "source": [
    "#Lowest Rating\n",
    "df['Score'].min()"
   ]
  },
  {
   "cell_type": "code",
   "execution_count": 14,
   "id": "2c6cee2e",
   "metadata": {},
   "outputs": [
    {
     "name": "stdout",
     "output_type": "stream",
     "text": [
      "Id\n",
      "568454\n",
      "\n",
      "ProductId\n",
      "74258\n",
      "\n",
      "UserId\n",
      "256059\n",
      "\n",
      "ProfileName\n",
      "218417\n",
      "\n",
      "HelpfulnessNumerator\n",
      "231\n",
      "\n",
      "HelpfulnessDenominator\n",
      "234\n",
      "\n",
      "Score\n",
      "5\n",
      "\n",
      "Time\n",
      "3168\n",
      "\n",
      "Summary\n",
      "295742\n",
      "\n",
      "Text\n",
      "393579\n",
      "\n"
     ]
    }
   ],
   "source": [
    "#check unique values in data set\n",
    "for column in df.columns:\n",
    "    print(column)\n",
    "    print(df[column].nunique())\n",
    "    print()"
   ]
  },
  {
   "cell_type": "code",
   "execution_count": 33,
   "id": "836bd24e",
   "metadata": {},
   "outputs": [
    {
     "data": {
      "text/plain": [
       "UserId\n",
       "#oc-R103C0QSV1DF5E                                  Great for the Price\n",
       "#oc-R109MU5OBBZ59U                                   AWESOME Coffee!!!!\n",
       "#oc-R10LFEMQEW6QGZ        Brooklyn Bean Roastery Breakfast Blend K-Cups\n",
       "#oc-R10LT57ZGIB140                                          Some damage\n",
       "#oc-R10UA029WVWIUI    Less than satisfactory.  I gave the Brooklyn K...\n",
       "                                            ...                        \n",
       "AZZV9PDNMCOZW                Love this syrupJust what I neededI like it\n",
       "AZZVNIMTTMJH6                                            pretty amazing\n",
       "AZZY649VYAHQS                                            I Have Spoken.\n",
       "AZZYCJOJLUDYR                                          Amazing flavor!!\n",
       "AZZZOVIBXHGDR                                              Disappointed\n",
       "Name: Summary, Length: 256059, dtype: object"
      ]
     },
     "execution_count": 33,
     "metadata": {},
     "output_type": "execute_result"
    }
   ],
   "source": [
    "#no of reviews by users more than once\n",
    "reviews_more=(df.groupby('UserId')['Summary']).sum()\n",
    "reviews_more"
   ]
  },
  {
   "cell_type": "code",
   "execution_count": 34,
   "id": "22111985",
   "metadata": {},
   "outputs": [
    {
     "data": {
      "text/plain": [
       "<AxesSubplot:>"
      ]
     },
     "execution_count": 34,
     "metadata": {},
     "output_type": "execute_result"
    },
    {
     "data": {
      "image/png": "[encoded data removed]",
      "text/plain": [
       "<Figure size 720x576 with 2 Axes>"
      ]
     },
     "metadata": {
      "needs_background": "light"
     },
     "output_type": "display_data"
    }
   ],
   "source": [
    "# Correlation matrix\n",
    "\n",
    "plt.figure(figsize= (10,8))\n",
    "sns.heatmap(df.corr(), annot= True, cmap= 'coolwarm')"
   ]
  },
  {
   "cell_type": "code",
   "execution_count": 35,
   "id": "35571682",
   "metadata": {},
   "outputs": [],
   "source": [
    "df['Score']=df['Score'].astype(float)"
   ]
  },
  {
   "cell_type": "code",
   "execution_count": 36,
   "id": "c69e86f9",
   "metadata": {},
   "outputs": [
    {
     "data": {
      "text/plain": [
       "(568454, 10)"
      ]
     },
     "execution_count": 36,
     "metadata": {},
     "output_type": "execute_result"
    }
   ],
   "source": [
    "df.shape"
   ]
  },
  {
   "cell_type": "code",
   "execution_count": 37,
   "id": "5809eac9",
   "metadata": {},
   "outputs": [],
   "source": [
    "#To find out how many people have rated the movies as 1, 2, 3,4,5 stars ratings \n",
    "stars=df.groupby('Score')['Score'].agg(['count'])"
   ]
  },
  {
   "cell_type": "code",
   "execution_count": 38,
   "id": "a41d000a",
   "metadata": {},
   "outputs": [
    {
     "data": {
      "text/html": [
       "<div>\n",
       "<style scoped>\n",
       "    .dataframe tbody tr th:only-of-type {\n",
       "        vertical-align: middle;\n",
       "    }\n",
       "\n",
       "    .dataframe tbody tr th {\n",
       "        vertical-align: top;\n",
       "    }\n",
       "\n",
       "    .dataframe thead th {\n",
       "        text-align: right;\n",
       "    }\n",
       "</style>\n",
       "<table border=\"1\" class=\"dataframe\">\n",
       "  <thead>\n",
       "    <tr style=\"text-align: right;\">\n",
       "      <th></th>\n",
       "      <th>count</th>\n",
       "    </tr>\n",
       "    <tr>\n",
       "      <th>Score</th>\n",
       "      <th></th>\n",
       "    </tr>\n",
       "  </thead>\n",
       "  <tbody>\n",
       "    <tr>\n",
       "      <th>1.0</th>\n",
       "      <td>52268</td>\n",
       "    </tr>\n",
       "    <tr>\n",
       "      <th>2.0</th>\n",
       "      <td>29769</td>\n",
       "    </tr>\n",
       "    <tr>\n",
       "      <th>3.0</th>\n",
       "      <td>42640</td>\n",
       "    </tr>\n",
       "    <tr>\n",
       "      <th>4.0</th>\n",
       "      <td>80655</td>\n",
       "    </tr>\n",
       "    <tr>\n",
       "      <th>5.0</th>\n",
       "      <td>363122</td>\n",
       "    </tr>\n",
       "  </tbody>\n",
       "</table>\n",
       "</div>"
      ],
      "text/plain": [
       "        count\n",
       "Score        \n",
       "1.0     52268\n",
       "2.0     29769\n",
       "3.0     42640\n",
       "4.0     80655\n",
       "5.0    363122"
      ]
     },
     "execution_count": 38,
     "metadata": {},
     "output_type": "execute_result"
    }
   ],
   "source": [
    "stars"
   ]
  },
  {
   "cell_type": "markdown",
   "id": "7e002860",
   "metadata": {},
   "source": [
    "# Total number of reviews by unique profiles. \n",
    "How many customers or profiles have reviewed more than one product?"
   ]
  },
  {
   "cell_type": "code",
   "execution_count": 45,
   "id": "d43d1a7c",
   "metadata": {},
   "outputs": [
    {
     "data": {
      "text/plain": [
       "UserId\n",
       "#oc-R103C0QSV1DF5E    [#oc-R103C0QSV1DF5E]\n",
       "#oc-R109MU5OBBZ59U    [#oc-R109MU5OBBZ59U]\n",
       "#oc-R10LFEMQEW6QGZ    [#oc-R10LFEMQEW6QGZ]\n",
       "#oc-R10LT57ZGIB140    [#oc-R10LT57ZGIB140]\n",
       "#oc-R10UA029WVWIUI    [#oc-R10UA029WVWIUI]\n",
       "                              ...         \n",
       "AZZV9PDNMCOZW              [AZZV9PDNMCOZW]\n",
       "AZZVNIMTTMJH6              [AZZVNIMTTMJH6]\n",
       "AZZY649VYAHQS              [AZZY649VYAHQS]\n",
       "AZZYCJOJLUDYR              [AZZYCJOJLUDYR]\n",
       "AZZZOVIBXHGDR              [AZZZOVIBXHGDR]\n",
       "Name: UserId, Length: 256059, dtype: object"
      ]
     },
     "execution_count": 45,
     "metadata": {},
     "output_type": "execute_result"
    }
   ],
   "source": [
    "# Total number of reviews by unique profiles. \n",
    "unique_reviews=df.groupby('UserId')['UserId'].unique()\n",
    "unique_reviews"
   ]
  },
  {
   "cell_type": "markdown",
   "id": "66ab5dab",
   "metadata": {},
   "source": [
    "#customers or profiles have reviewed more than one product\n",
    "reviews=df.groupby('UserId')['UserId'].agg(['count'])\n",
    "reviews"
   ]
  },
  {
   "cell_type": "code",
   "execution_count": 46,
   "id": "7776e023",
   "metadata": {},
   "outputs": [],
   "source": [
    "# Calculate the average rating for each product\n",
    "avg_rating = df.groupby('ProductId')['Score'].mean().reset_index()"
   ]
  },
  {
   "cell_type": "code",
   "execution_count": 47,
   "id": "eb47c219",
   "metadata": {},
   "outputs": [
    {
     "data": {
      "text/html": [
       "<div>\n",
       "<style scoped>\n",
       "    .dataframe tbody tr th:only-of-type {\n",
       "        vertical-align: middle;\n",
       "    }\n",
       "\n",
       "    .dataframe tbody tr th {\n",
       "        vertical-align: top;\n",
       "    }\n",
       "\n",
       "    .dataframe thead th {\n",
       "        text-align: right;\n",
       "    }\n",
       "</style>\n",
       "<table border=\"1\" class=\"dataframe\">\n",
       "  <thead>\n",
       "    <tr style=\"text-align: right;\">\n",
       "      <th></th>\n",
       "      <th>ProductId</th>\n",
       "      <th>Score</th>\n",
       "    </tr>\n",
       "  </thead>\n",
       "  <tbody>\n",
       "    <tr>\n",
       "      <th>0</th>\n",
       "      <td>0006641040</td>\n",
       "      <td>4.351351</td>\n",
       "    </tr>\n",
       "    <tr>\n",
       "      <th>1</th>\n",
       "      <td>141278509X</td>\n",
       "      <td>5.000000</td>\n",
       "    </tr>\n",
       "    <tr>\n",
       "      <th>2</th>\n",
       "      <td>2734888454</td>\n",
       "      <td>3.500000</td>\n",
       "    </tr>\n",
       "    <tr>\n",
       "      <th>3</th>\n",
       "      <td>2841233731</td>\n",
       "      <td>5.000000</td>\n",
       "    </tr>\n",
       "    <tr>\n",
       "      <th>4</th>\n",
       "      <td>7310172001</td>\n",
       "      <td>4.751445</td>\n",
       "    </tr>\n",
       "    <tr>\n",
       "      <th>...</th>\n",
       "      <td>...</td>\n",
       "      <td>...</td>\n",
       "    </tr>\n",
       "    <tr>\n",
       "      <th>74253</th>\n",
       "      <td>B009UOFTUI</td>\n",
       "      <td>1.000000</td>\n",
       "    </tr>\n",
       "    <tr>\n",
       "      <th>74254</th>\n",
       "      <td>B009UOFU20</td>\n",
       "      <td>1.000000</td>\n",
       "    </tr>\n",
       "    <tr>\n",
       "      <th>74255</th>\n",
       "      <td>B009UUS05I</td>\n",
       "      <td>5.000000</td>\n",
       "    </tr>\n",
       "    <tr>\n",
       "      <th>74256</th>\n",
       "      <td>B009WSNWC4</td>\n",
       "      <td>5.000000</td>\n",
       "    </tr>\n",
       "    <tr>\n",
       "      <th>74257</th>\n",
       "      <td>B009WVB40S</td>\n",
       "      <td>5.000000</td>\n",
       "    </tr>\n",
       "  </tbody>\n",
       "</table>\n",
       "<p>74258 rows × 2 columns</p>\n",
       "</div>"
      ],
      "text/plain": [
       "        ProductId     Score\n",
       "0      0006641040  4.351351\n",
       "1      141278509X  5.000000\n",
       "2      2734888454  3.500000\n",
       "3      2841233731  5.000000\n",
       "4      7310172001  4.751445\n",
       "...           ...       ...\n",
       "74253  B009UOFTUI  1.000000\n",
       "74254  B009UOFU20  1.000000\n",
       "74255  B009UUS05I  5.000000\n",
       "74256  B009WSNWC4  5.000000\n",
       "74257  B009WVB40S  5.000000\n",
       "\n",
       "[74258 rows x 2 columns]"
      ]
     },
     "execution_count": 47,
     "metadata": {},
     "output_type": "execute_result"
    }
   ],
   "source": [
    "avg_rating"
   ]
  },
  {
   "cell_type": "code",
   "execution_count": 48,
   "id": "59f169c3",
   "metadata": {},
   "outputs": [
    {
     "data": {
      "image/png": "[encoded data removed]",
      "text/plain": [
       "<Figure size 432x288 with 1 Axes>"
      ]
     },
     "metadata": {
      "needs_background": "light"
     },
     "output_type": "display_data"
    }
   ],
   "source": [
    "# Create a histogram of the product ratings\n",
    "sns.histplot(data=df, x='Score', bins=np.arange(0.5, 6.5, 1), kde=True)\n",
    "plt.title('Distribution of Product Ratings')\n",
    "plt.xlabel('Rating')\n",
    "plt.ylabel('Count')\n",
    "plt.show()"
   ]
  },
  {
   "cell_type": "code",
   "execution_count": 49,
   "id": "e15ad998",
   "metadata": {},
   "outputs": [
    {
     "data": {
      "text/html": [
       "<div>\n",
       "<style scoped>\n",
       "    .dataframe tbody tr th:only-of-type {\n",
       "        vertical-align: middle;\n",
       "    }\n",
       "\n",
       "    .dataframe tbody tr th {\n",
       "        vertical-align: top;\n",
       "    }\n",
       "\n",
       "    .dataframe thead th {\n",
       "        text-align: right;\n",
       "    }\n",
       "</style>\n",
       "<table border=\"1\" class=\"dataframe\">\n",
       "  <thead>\n",
       "    <tr style=\"text-align: right;\">\n",
       "      <th></th>\n",
       "      <th>ProductId</th>\n",
       "      <th>Score</th>\n",
       "    </tr>\n",
       "  </thead>\n",
       "  <tbody>\n",
       "    <tr>\n",
       "      <th>0</th>\n",
       "      <td>0006641040</td>\n",
       "      <td>4.351351</td>\n",
       "    </tr>\n",
       "    <tr>\n",
       "      <th>1</th>\n",
       "      <td>141278509X</td>\n",
       "      <td>5.000000</td>\n",
       "    </tr>\n",
       "    <tr>\n",
       "      <th>2</th>\n",
       "      <td>2734888454</td>\n",
       "      <td>3.500000</td>\n",
       "    </tr>\n",
       "    <tr>\n",
       "      <th>3</th>\n",
       "      <td>2841233731</td>\n",
       "      <td>5.000000</td>\n",
       "    </tr>\n",
       "    <tr>\n",
       "      <th>4</th>\n",
       "      <td>7310172001</td>\n",
       "      <td>4.751445</td>\n",
       "    </tr>\n",
       "    <tr>\n",
       "      <th>...</th>\n",
       "      <td>...</td>\n",
       "      <td>...</td>\n",
       "    </tr>\n",
       "    <tr>\n",
       "      <th>74253</th>\n",
       "      <td>B009UOFTUI</td>\n",
       "      <td>1.000000</td>\n",
       "    </tr>\n",
       "    <tr>\n",
       "      <th>74254</th>\n",
       "      <td>B009UOFU20</td>\n",
       "      <td>1.000000</td>\n",
       "    </tr>\n",
       "    <tr>\n",
       "      <th>74255</th>\n",
       "      <td>B009UUS05I</td>\n",
       "      <td>5.000000</td>\n",
       "    </tr>\n",
       "    <tr>\n",
       "      <th>74256</th>\n",
       "      <td>B009WSNWC4</td>\n",
       "      <td>5.000000</td>\n",
       "    </tr>\n",
       "    <tr>\n",
       "      <th>74257</th>\n",
       "      <td>B009WVB40S</td>\n",
       "      <td>5.000000</td>\n",
       "    </tr>\n",
       "  </tbody>\n",
       "</table>\n",
       "<p>74258 rows × 2 columns</p>\n",
       "</div>"
      ],
      "text/plain": [
       "        ProductId     Score\n",
       "0      0006641040  4.351351\n",
       "1      141278509X  5.000000\n",
       "2      2734888454  3.500000\n",
       "3      2841233731  5.000000\n",
       "4      7310172001  4.751445\n",
       "...           ...       ...\n",
       "74253  B009UOFTUI  1.000000\n",
       "74254  B009UOFU20  1.000000\n",
       "74255  B009UUS05I  5.000000\n",
       "74256  B009WSNWC4  5.000000\n",
       "74257  B009WVB40S  5.000000\n",
       "\n",
       "[74258 rows x 2 columns]"
      ]
     },
     "execution_count": 49,
     "metadata": {},
     "output_type": "execute_result"
    }
   ],
   "source": [
    "# Calculate the overall rating of each product\n",
    "product_ratings = df.groupby('ProductId')['Score'].mean().reset_index()\n",
    "product_ratings"
   ]
  },
  {
   "cell_type": "code",
   "execution_count": 50,
   "id": "542575e1",
   "metadata": {},
   "outputs": [
    {
     "data": {
      "image/png": "[encoded data removed]",
      "text/plain": [
       "<Figure size 720x360 with 1 Axes>"
      ]
     },
     "metadata": {
      "needs_background": "light"
     },
     "output_type": "display_data"
    }
   ],
   "source": [
    "# Plot the distribution of product ratings\n",
    "plt.figure(figsize=(10, 5))\n",
    "sns.histplot(data=product_ratings, x='Score', bins=10)\n",
    "plt.title('Distribution of Product Ratings')\n",
    "plt.xlabel('Rating')\n",
    "plt.ylabel('Count')\n",
    "plt.show()"
   ]
  },
  {
   "cell_type": "markdown",
   "id": "e1eb5948",
   "metadata": {},
   "source": [
    "Overall rating: The overall rating of a product is an important indicator of its quality. The dataset shows that most products have a rating between 4 and 5 stars, indicating that customers are generally satisfied with their purchases."
   ]
  },
  {
   "cell_type": "code",
   "execution_count": 51,
   "id": "77d1b0c8",
   "metadata": {},
   "outputs": [
    {
     "data": {
      "image/png": "[encoded data removed]",
      "text/plain": [
       "<Figure size 432x288 with 1 Axes>"
      ]
     },
     "metadata": {
      "needs_background": "light"
     },
     "output_type": "display_data"
    }
   ],
   "source": [
    "# Overall rating\n",
    "sns.histplot(data=df, x=\"Score\")\n",
    "plt.title(\"Overall rating distribution\")\n",
    "plt.show()"
   ]
  },
  {
   "cell_type": "markdown",
   "id": "e0a7f741",
   "metadata": {},
   "source": [
    "Review length: The length of a review can also be an indicator of the product quality. Longer reviews tend to provide more details about the product and its features, while shorter reviews may only provide a brief overview. Analyzing the distribution of review lengths can help identify products that have more detailed and informative reviews.\n",
    "\n"
   ]
  },
  {
   "cell_type": "code",
   "execution_count": 52,
   "id": "fcdb3fb3",
   "metadata": {},
   "outputs": [
    {
     "data": {
      "text/html": [
       "<div>\n",
       "<style scoped>\n",
       "    .dataframe tbody tr th:only-of-type {\n",
       "        vertical-align: middle;\n",
       "    }\n",
       "\n",
       "    .dataframe tbody tr th {\n",
       "        vertical-align: top;\n",
       "    }\n",
       "\n",
       "    .dataframe thead th {\n",
       "        text-align: right;\n",
       "    }\n",
       "</style>\n",
       "<table border=\"1\" class=\"dataframe\">\n",
       "  <thead>\n",
       "    <tr style=\"text-align: right;\">\n",
       "      <th></th>\n",
       "      <th>Id</th>\n",
       "      <th>ProductId</th>\n",
       "      <th>UserId</th>\n",
       "      <th>ProfileName</th>\n",
       "      <th>HelpfulnessNumerator</th>\n",
       "      <th>HelpfulnessDenominator</th>\n",
       "      <th>Score</th>\n",
       "      <th>Time</th>\n",
       "      <th>Summary</th>\n",
       "      <th>Text</th>\n",
       "      <th>ReviewLength</th>\n",
       "    </tr>\n",
       "  </thead>\n",
       "  <tbody>\n",
       "    <tr>\n",
       "      <th>0</th>\n",
       "      <td>1</td>\n",
       "      <td>B001E4KFG0</td>\n",
       "      <td>A3SGXH7AUHU8GW</td>\n",
       "      <td>delmartian</td>\n",
       "      <td>1</td>\n",
       "      <td>1</td>\n",
       "      <td>5.0</td>\n",
       "      <td>2011-04-27</td>\n",
       "      <td>Good Quality Dog Food</td>\n",
       "      <td>I have bought several of the Vitality canned d...</td>\n",
       "      <td>263</td>\n",
       "    </tr>\n",
       "    <tr>\n",
       "      <th>1</th>\n",
       "      <td>2</td>\n",
       "      <td>B00813GRG4</td>\n",
       "      <td>A1D87F6ZCVE5NK</td>\n",
       "      <td>dll pa</td>\n",
       "      <td>0</td>\n",
       "      <td>0</td>\n",
       "      <td>1.0</td>\n",
       "      <td>2012-09-07</td>\n",
       "      <td>Not as Advertised</td>\n",
       "      <td>Product arrived labeled as Jumbo Salted Peanut...</td>\n",
       "      <td>190</td>\n",
       "    </tr>\n",
       "    <tr>\n",
       "      <th>2</th>\n",
       "      <td>3</td>\n",
       "      <td>B000LQOCH0</td>\n",
       "      <td>ABXLMWJIXXAIN</td>\n",
       "      <td>Natalia Corres \"Natalia Corres\"</td>\n",
       "      <td>1</td>\n",
       "      <td>1</td>\n",
       "      <td>4.0</td>\n",
       "      <td>2008-08-18</td>\n",
       "      <td>\"Delight\" says it all</td>\n",
       "      <td>This is a confection that has been around a fe...</td>\n",
       "      <td>509</td>\n",
       "    </tr>\n",
       "    <tr>\n",
       "      <th>3</th>\n",
       "      <td>4</td>\n",
       "      <td>B000UA0QIQ</td>\n",
       "      <td>A395BORC6FGVXV</td>\n",
       "      <td>Karl</td>\n",
       "      <td>3</td>\n",
       "      <td>3</td>\n",
       "      <td>2.0</td>\n",
       "      <td>2011-06-13</td>\n",
       "      <td>Cough Medicine</td>\n",
       "      <td>If you are looking for the secret ingredient i...</td>\n",
       "      <td>219</td>\n",
       "    </tr>\n",
       "    <tr>\n",
       "      <th>4</th>\n",
       "      <td>5</td>\n",
       "      <td>B006K2ZZ7K</td>\n",
       "      <td>A1UQRSCLF8GW1T</td>\n",
       "      <td>Michael D. Bigham \"M. Wassir\"</td>\n",
       "      <td>0</td>\n",
       "      <td>0</td>\n",
       "      <td>5.0</td>\n",
       "      <td>2012-10-21</td>\n",
       "      <td>Great taffy</td>\n",
       "      <td>Great taffy at a great price.  There was a wid...</td>\n",
       "      <td>140</td>\n",
       "    </tr>\n",
       "  </tbody>\n",
       "</table>\n",
       "</div>"
      ],
      "text/plain": [
       "   Id   ProductId          UserId                      ProfileName  \\\n",
       "0   1  B001E4KFG0  A3SGXH7AUHU8GW                       delmartian   \n",
       "1   2  B00813GRG4  A1D87F6ZCVE5NK                           dll pa   \n",
       "2   3  B000LQOCH0   ABXLMWJIXXAIN  Natalia Corres \"Natalia Corres\"   \n",
       "3   4  B000UA0QIQ  A395BORC6FGVXV                             Karl   \n",
       "4   5  B006K2ZZ7K  A1UQRSCLF8GW1T    Michael D. Bigham \"M. Wassir\"   \n",
       "\n",
       "   HelpfulnessNumerator  HelpfulnessDenominator  Score       Time  \\\n",
       "0                     1                       1    5.0 2011-04-27   \n",
       "1                     0                       0    1.0 2012-09-07   \n",
       "2                     1                       1    4.0 2008-08-18   \n",
       "3                     3                       3    2.0 2011-06-13   \n",
       "4                     0                       0    5.0 2012-10-21   \n",
       "\n",
       "                 Summary                                               Text  \\\n",
       "0  Good Quality Dog Food  I have bought several of the Vitality canned d...   \n",
       "1      Not as Advertised  Product arrived labeled as Jumbo Salted Peanut...   \n",
       "2  \"Delight\" says it all  This is a confection that has been around a fe...   \n",
       "3         Cough Medicine  If you are looking for the secret ingredient i...   \n",
       "4            Great taffy  Great taffy at a great price.  There was a wid...   \n",
       "\n",
       "   ReviewLength  \n",
       "0           263  \n",
       "1           190  \n",
       "2           509  \n",
       "3           219  \n",
       "4           140  "
      ]
     },
     "execution_count": 52,
     "metadata": {},
     "output_type": "execute_result"
    }
   ],
   "source": [
    "# Calculate the length of each review\n",
    "df['ReviewLength'] = df['Text'].apply(lambda x: len(str(x)))\n",
    "df.head(5)"
   ]
  },
  {
   "cell_type": "code",
   "execution_count": 53,
   "id": "f4685473",
   "metadata": {},
   "outputs": [
    {
     "data": {
      "image/png": "[encoded data removed]",
      "text/plain": [
       "<Figure size 720x360 with 1 Axes>"
      ]
     },
     "metadata": {
      "needs_background": "light"
     },
     "output_type": "display_data"
    }
   ],
   "source": [
    "# Plot the distribution of review lengths\n",
    "plt.figure(figsize=(10, 5))\n",
    "sns.histplot(data=df, x='ReviewLength', bins=50)\n",
    "plt.title('Distribution of Review Lengths')\n",
    "plt.xlabel('Review Length')\n",
    "plt.ylabel('Count')\n",
    "plt.show()"
   ]
  },
  {
   "cell_type": "code",
   "execution_count": 54,
   "id": "6c820315",
   "metadata": {},
   "outputs": [
    {
     "data": {
      "image/png": "[encoded data removed]",
      "text/plain": [
       "<Figure size 432x288 with 1 Axes>"
      ]
     },
     "metadata": {
      "needs_background": "light"
     },
     "output_type": "display_data"
    }
   ],
   "source": [
    "plt.scatter(df['Score'], df['HelpfulnessNumerator'])\n",
    "plt.xlabel('Score')\n",
    "plt.ylabel('HelpfulnessNumerator')\n",
    "plt.show()"
   ]
  },
  {
   "cell_type": "code",
   "execution_count": 55,
   "id": "a5187139",
   "metadata": {},
   "outputs": [
    {
     "data": {
      "image/png": "[encoded data removed]",
      "text/plain": [
       "<Figure size 432x288 with 1 Axes>"
      ]
     },
     "metadata": {
      "needs_background": "light"
     },
     "output_type": "display_data"
    }
   ],
   "source": [
    "plt.scatter(df['HelpfulnessNumerator'], df['HelpfulnessDenominator'])\n",
    "plt.xlabel('Helpfulness Numerator')\n",
    "plt.ylabel('Helpfulness Denominator')\n",
    "plt.show()"
   ]
  },
  {
   "cell_type": "code",
   "execution_count": 56,
   "id": "0341bf94",
   "metadata": {},
   "outputs": [
    {
     "data": {
      "image/png": "[encoded data removed]",
      "text/plain": [
       "<Figure size 1440x432 with 1 Axes>"
      ]
     },
     "metadata": {
      "needs_background": "light"
     },
     "output_type": "display_data"
    }
   ],
   "source": [
    "# Create a bar chart of the top 10 most reviewed products\n",
    "most_reviewed = df['ProductId'].value_counts().nlargest(10)\n",
    "\n",
    "fig, ax = plt.subplots(figsize=(20, 6)) # specify figure size\n",
    "\n",
    "ax.bar(most_reviewed.index, most_reviewed.values)\n",
    "ax.set_title('Top 10 Most Reviewed Products')\n",
    "ax.set_xlabel('Product ID')\n",
    "ax.set_ylabel('Number of Reviews')\n",
    "plt.show()\n",
    "\n"
   ]
  },
  {
   "cell_type": "code",
   "execution_count": 57,
   "id": "f34c76e9",
   "metadata": {},
   "outputs": [
    {
     "data": {
      "image/png": "[encoded data removed]",
      "text/plain": [
       "<Figure size 432x288 with 1 Axes>"
      ]
     },
     "metadata": {
      "needs_background": "light"
     },
     "output_type": "display_data"
    }
   ],
   "source": [
    "# Create a scatter plot of the rating vs. time for a sample product\n",
    "sample_product = 'B007JFMH8M'\n",
    "sample_df = df[df['ProductId'] == sample_product]\n",
    "plt.scatter(sample_df['Time'], sample_df['Score'])\n",
    "plt.title(f'Rating vs. Time for Product {sample_product}')\n",
    "plt.xlabel('Time')\n",
    "plt.ylabel('Rating')\n",
    "plt.show()\n"
   ]
  },
  {
   "cell_type": "code",
   "execution_count": 58,
   "id": "cafb5242",
   "metadata": {},
   "outputs": [
    {
     "name": "stdout",
     "output_type": "stream",
     "text": [
      "Top 10 Highest Rated Products:\n",
      "     ProductId  Score\n",
      "1   141278509X    5.0\n",
      "3   2841233731    5.0\n",
      "7   9376674501    5.0\n",
      "10  B00002Z754    5.0\n",
      "25  B0000535LF    5.0\n",
      "27  B00005C2JE    5.0\n",
      "36  B00005V3DC    5.0\n",
      "37  B0000643LM    5.0\n",
      "39  B000069KQW    5.0\n",
      "45  B00006L2ZT    5.0\n"
     ]
    }
   ],
   "source": [
    "# Print the top 10 highest rated products\n",
    "top_rated = avg_rating.nlargest(10, 'Score')\n",
    "print('Top 10 Highest Rated Products:')\n",
    "print(top_rated[['ProductId', 'Score']])"
   ]
  },
  {
   "cell_type": "markdown",
   "id": "7e727d00",
   "metadata": {},
   "source": [
    "Review frequency: The frequency of reviews can also be an important indicator of the product quality. Products that have a high frequency of reviews may indicate a high demand and popularity. On the other hand, products with infrequent reviews may indicate lower demand or less popular products.\n",
    "\n"
   ]
  },
  {
   "cell_type": "code",
   "execution_count": 59,
   "id": "2e35fa66",
   "metadata": {},
   "outputs": [
    {
     "data": {
      "text/html": [
       "<div>\n",
       "<style scoped>\n",
       "    .dataframe tbody tr th:only-of-type {\n",
       "        vertical-align: middle;\n",
       "    }\n",
       "\n",
       "    .dataframe tbody tr th {\n",
       "        vertical-align: top;\n",
       "    }\n",
       "\n",
       "    .dataframe thead th {\n",
       "        text-align: right;\n",
       "    }\n",
       "</style>\n",
       "<table border=\"1\" class=\"dataframe\">\n",
       "  <thead>\n",
       "    <tr style=\"text-align: right;\">\n",
       "      <th></th>\n",
       "      <th>ProductId</th>\n",
       "      <th>ReviewCount</th>\n",
       "    </tr>\n",
       "  </thead>\n",
       "  <tbody>\n",
       "    <tr>\n",
       "      <th>0</th>\n",
       "      <td>0006641040</td>\n",
       "      <td>37</td>\n",
       "    </tr>\n",
       "    <tr>\n",
       "      <th>1</th>\n",
       "      <td>141278509X</td>\n",
       "      <td>1</td>\n",
       "    </tr>\n",
       "    <tr>\n",
       "      <th>2</th>\n",
       "      <td>2734888454</td>\n",
       "      <td>2</td>\n",
       "    </tr>\n",
       "    <tr>\n",
       "      <th>3</th>\n",
       "      <td>2841233731</td>\n",
       "      <td>1</td>\n",
       "    </tr>\n",
       "    <tr>\n",
       "      <th>4</th>\n",
       "      <td>7310172001</td>\n",
       "      <td>173</td>\n",
       "    </tr>\n",
       "    <tr>\n",
       "      <th>...</th>\n",
       "      <td>...</td>\n",
       "      <td>...</td>\n",
       "    </tr>\n",
       "    <tr>\n",
       "      <th>74253</th>\n",
       "      <td>B009UOFTUI</td>\n",
       "      <td>1</td>\n",
       "    </tr>\n",
       "    <tr>\n",
       "      <th>74254</th>\n",
       "      <td>B009UOFU20</td>\n",
       "      <td>1</td>\n",
       "    </tr>\n",
       "    <tr>\n",
       "      <th>74255</th>\n",
       "      <td>B009UUS05I</td>\n",
       "      <td>1</td>\n",
       "    </tr>\n",
       "    <tr>\n",
       "      <th>74256</th>\n",
       "      <td>B009WSNWC4</td>\n",
       "      <td>1</td>\n",
       "    </tr>\n",
       "    <tr>\n",
       "      <th>74257</th>\n",
       "      <td>B009WVB40S</td>\n",
       "      <td>1</td>\n",
       "    </tr>\n",
       "  </tbody>\n",
       "</table>\n",
       "<p>74258 rows × 2 columns</p>\n",
       "</div>"
      ],
      "text/plain": [
       "        ProductId  ReviewCount\n",
       "0      0006641040           37\n",
       "1      141278509X            1\n",
       "2      2734888454            2\n",
       "3      2841233731            1\n",
       "4      7310172001          173\n",
       "...           ...          ...\n",
       "74253  B009UOFTUI            1\n",
       "74254  B009UOFU20            1\n",
       "74255  B009UUS05I            1\n",
       "74256  B009WSNWC4            1\n",
       "74257  B009WVB40S            1\n",
       "\n",
       "[74258 rows x 2 columns]"
      ]
     },
     "execution_count": 59,
     "metadata": {},
     "output_type": "execute_result"
    }
   ],
   "source": [
    "# Calculate the frequency of reviews for each product\n",
    "product_review_count = df.groupby('ProductId')['Id'].count().reset_index().rename(columns={'Id': 'ReviewCount'})\n",
    "product_review_count"
   ]
  },
  {
   "cell_type": "code",
   "execution_count": 60,
   "id": "5cfce2f0",
   "metadata": {},
   "outputs": [
    {
     "data": {
      "image/png": "[encoded data removed]",
      "text/plain": [
       "<Figure size 720x360 with 1 Axes>"
      ]
     },
     "metadata": {
      "needs_background": "light"
     },
     "output_type": "display_data"
    }
   ],
   "source": [
    "# Plot the distribution of review counts\n",
    "plt.figure(figsize=(10, 5))\n",
    "sns.histplot(data=product_review_count, x='ReviewCount', bins=50)\n",
    "plt.title('Distribution of Review Counts')\n",
    "plt.xlabel('Review Count')\n",
    "plt.ylabel('Count')\n",
    "plt.show()"
   ]
  },
  {
   "cell_type": "markdown",
   "id": "c8b4c3c6",
   "metadata": {},
   "source": [
    "Review categories: Analyzing the categories of products that receive the most reviews can provide insights into customer preferences and interests. For example, if a certain category of products receives a higher number of positive reviews, it may indicate that customers are more interested in that category and prefer those products."
   ]
  },
  {
   "cell_type": "code",
   "execution_count": 61,
   "id": "7f70681f",
   "metadata": {},
   "outputs": [
    {
     "data": {
      "text/plain": [
       "Delicious!                                     2489\n",
       "Delicious                                      2316\n",
       "Yummy!                                         1594\n",
       "Yummy                                          1268\n",
       "Great product                                  1091\n",
       "                                               ... \n",
       "Nice Bonsai                                       1\n",
       "FABULOUS as a meal or snack                       1\n",
       "not sure if it worked...                          1\n",
       "Reduced to a chokable in 10 minutes               1\n",
       "Disappeared from stores; now can get again.       1\n",
       "Name: Summary, Length: 295742, dtype: int64"
      ]
     },
     "execution_count": 61,
     "metadata": {},
     "output_type": "execute_result"
    }
   ],
   "source": [
    "# Identify the categories of products with the most reviews\n",
    "category_counts = df['Summary'].value_counts()\n",
    "category_counts"
   ]
  },
  {
   "cell_type": "code",
   "execution_count": 62,
   "id": "d40f5830",
   "metadata": {},
   "outputs": [
    {
     "data": {
      "image/png": "[encoded data removed]",
      "text/plain": [
       "<Figure size 720x360 with 1 Axes>"
      ]
     },
     "metadata": {
      "needs_background": "light"
     },
     "output_type": "display_data"
    }
   ],
   "source": [
    "# Plot the distribution of product categories with the most reviews\n",
    "plt.figure(figsize=(10, 5))\n",
    "sns.barplot(x=category_counts[:10].values, y=category_counts[:10].index)\n",
    "plt.title('Top 10 Product Categories by Review Count')\n",
    "plt.xlabel('Review Count')\n",
    "plt.ylabel('Product Category')\n",
    "plt.show()"
   ]
  },
  {
   "cell_type": "markdown",
   "id": "81d47a44",
   "metadata": {},
   "source": [
    "Brand reputation: Analyzing the reviews of different brands can provide insights into brand reputation and customer loyalty. Brands that consistently receive positive reviews across different products may indicate a strong brand reputation and customer loyalty."
   ]
  },
  {
   "cell_type": "code",
   "execution_count": 63,
   "id": "25ffd46c",
   "metadata": {},
   "outputs": [
    {
     "data": {
      "text/plain": [
       "ProductId\n",
       "B00214BO58    5.0\n",
       "B002PDYN44    5.0\n",
       "B002P9QAJE    5.0\n",
       "B002P9QRCO    5.0\n",
       "B002PA1KW0    5.0\n",
       "B002PA7466    5.0\n",
       "B002PAHIWQ    5.0\n",
       "B002PAJFGS    5.0\n",
       "B002PALD4K    5.0\n",
       "B002PANI1G    5.0\n",
       "Name: Score, dtype: float64"
      ]
     },
     "execution_count": 63,
     "metadata": {},
     "output_type": "execute_result"
    }
   ],
   "source": [
    "# Brand reputation\n",
    "brand_review_counts = df.groupby(\"ProductId\")[\"Score\"].mean().sort_values(ascending=False)[:10]\n",
    "brand_review_counts"
   ]
  },
  {
   "cell_type": "code",
   "execution_count": 64,
   "id": "5cbc01da",
   "metadata": {},
   "outputs": [
    {
     "data": {
      "image/png": "[encoded data removed]",
      "text/plain": [
       "<Figure size 1440x360 with 1 Axes>"
      ]
     },
     "metadata": {
      "needs_background": "light"
     },
     "output_type": "display_data"
    }
   ],
   "source": [
    "plt.figure(figsize=(20, 5))\n",
    "sns.barplot(x=brand_review_counts.index, y=brand_review_counts.values)\n",
    "plt.title(\"Top 10 brands with highest average rating\")\n",
    "plt.show()"
   ]
  },
  {
   "cell_type": "markdown",
   "id": "a23cc0fa",
   "metadata": {},
   "source": [
    "Reviewer demographics: Analyzing the demographics of reviewers, such as age, gender, location, and purchase history, can provide insights into customer preferences and interests. For example, if a certain demographic group provides more positive reviews for a particular product or category, it may indicate that the product or category is more popular among that group."
   ]
  },
  {
   "cell_type": "code",
   "execution_count": 65,
   "id": "e2a0f084",
   "metadata": {},
   "outputs": [
    {
     "name": "stdout",
     "output_type": "stream",
     "text": [
      "count     27\n",
      "unique     8\n",
      "top       15\n",
      "freq      16\n",
      "Name: Age, dtype: object\n",
      "male      39\n",
      "female    11\n",
      "Name: Gender, dtype: int64\n",
      "Series([], Name: Location, dtype: int64)\n"
     ]
    }
   ],
   "source": [
    "# Extract the age and gender from the ProfileName column\n",
    "df['Age'] = df['ProfileName'].str.extract(r'(\\d{2})\\syear')\n",
    "df['Gender'] = df['ProfileName'].str.extract(r'(female|male)')\n",
    "\n",
    "# Extract the location from the UserId column\n",
    "df['Location'] = df['UserId'].str.extract(r'-(.*)-')\n",
    "\n",
    "# Print the summary statistics for the age column\n",
    "print(df['Age'].describe())\n",
    "\n",
    "# Print the count of reviews by gender\n",
    "print(df['Gender'].value_counts())\n",
    "\n",
    "# Print the count of reviews by location\n",
    "print(df['Location'].value_counts())"
   ]
  },
  {
   "cell_type": "code",
   "execution_count": 66,
   "id": "13ea54c2",
   "metadata": {},
   "outputs": [],
   "source": [
    "df.drop(['Age', 'Gender', 'Location'], axis=1, inplace=True)"
   ]
  },
  {
   "cell_type": "markdown",
   "id": "46be5dcb",
   "metadata": {},
   "source": [
    "#### Data Pre-processing Steps & Inspiration"
   ]
  },
  {
   "cell_type": "code",
   "execution_count": 67,
   "id": "3aa88ba2",
   "metadata": {},
   "outputs": [
    {
     "data": {
      "text/plain": [
       "(525814, 11)"
      ]
     },
     "execution_count": 67,
     "metadata": {},
     "output_type": "execute_result"
    }
   ],
   "source": [
    "#we will not consider reviews with 'Score' 3, so we are droping all the rows with 'Score' feature equals 3\n",
    "data=df[df['Score']!=3]\n",
    "data.shape"
   ]
  },
  {
   "cell_type": "markdown",
   "id": "6f29ed27",
   "metadata": {},
   "source": [
    "Review sentiment: Analyzing the sentiment of reviews can provide insights into customer satisfaction levels. Sentiment analysis can be performed using natural language processing techniques to classify reviews as positive, negative. This can help identify products that have a high percentage of positive reviews and those that may need improvement."
   ]
  },
  {
   "cell_type": "code",
   "execution_count": 68,
   "id": "c5b9e704",
   "metadata": {},
   "outputs": [
    {
     "data": {
      "text/html": [
       "<div>\n",
       "<style scoped>\n",
       "    .dataframe tbody tr th:only-of-type {\n",
       "        vertical-align: middle;\n",
       "    }\n",
       "\n",
       "    .dataframe tbody tr th {\n",
       "        vertical-align: top;\n",
       "    }\n",
       "\n",
       "    .dataframe thead th {\n",
       "        text-align: right;\n",
       "    }\n",
       "</style>\n",
       "<table border=\"1\" class=\"dataframe\">\n",
       "  <thead>\n",
       "    <tr style=\"text-align: right;\">\n",
       "      <th></th>\n",
       "      <th>Id</th>\n",
       "      <th>ProductId</th>\n",
       "      <th>UserId</th>\n",
       "      <th>ProfileName</th>\n",
       "      <th>HelpfulnessNumerator</th>\n",
       "      <th>HelpfulnessDenominator</th>\n",
       "      <th>Score</th>\n",
       "      <th>Time</th>\n",
       "      <th>Summary</th>\n",
       "      <th>Text</th>\n",
       "      <th>ReviewLength</th>\n",
       "    </tr>\n",
       "  </thead>\n",
       "  <tbody>\n",
       "    <tr>\n",
       "      <th>0</th>\n",
       "      <td>1</td>\n",
       "      <td>B001E4KFG0</td>\n",
       "      <td>A3SGXH7AUHU8GW</td>\n",
       "      <td>delmartian</td>\n",
       "      <td>1</td>\n",
       "      <td>1</td>\n",
       "      <td>1</td>\n",
       "      <td>2011-04-27</td>\n",
       "      <td>Good Quality Dog Food</td>\n",
       "      <td>I have bought several of the Vitality canned d...</td>\n",
       "      <td>263</td>\n",
       "    </tr>\n",
       "    <tr>\n",
       "      <th>1</th>\n",
       "      <td>2</td>\n",
       "      <td>B00813GRG4</td>\n",
       "      <td>A1D87F6ZCVE5NK</td>\n",
       "      <td>dll pa</td>\n",
       "      <td>0</td>\n",
       "      <td>0</td>\n",
       "      <td>0</td>\n",
       "      <td>2012-09-07</td>\n",
       "      <td>Not as Advertised</td>\n",
       "      <td>Product arrived labeled as Jumbo Salted Peanut...</td>\n",
       "      <td>190</td>\n",
       "    </tr>\n",
       "    <tr>\n",
       "      <th>2</th>\n",
       "      <td>3</td>\n",
       "      <td>B000LQOCH0</td>\n",
       "      <td>ABXLMWJIXXAIN</td>\n",
       "      <td>Natalia Corres \"Natalia Corres\"</td>\n",
       "      <td>1</td>\n",
       "      <td>1</td>\n",
       "      <td>1</td>\n",
       "      <td>2008-08-18</td>\n",
       "      <td>\"Delight\" says it all</td>\n",
       "      <td>This is a confection that has been around a fe...</td>\n",
       "      <td>509</td>\n",
       "    </tr>\n",
       "    <tr>\n",
       "      <th>3</th>\n",
       "      <td>4</td>\n",
       "      <td>B000UA0QIQ</td>\n",
       "      <td>A395BORC6FGVXV</td>\n",
       "      <td>Karl</td>\n",
       "      <td>3</td>\n",
       "      <td>3</td>\n",
       "      <td>0</td>\n",
       "      <td>2011-06-13</td>\n",
       "      <td>Cough Medicine</td>\n",
       "      <td>If you are looking for the secret ingredient i...</td>\n",
       "      <td>219</td>\n",
       "    </tr>\n",
       "    <tr>\n",
       "      <th>4</th>\n",
       "      <td>5</td>\n",
       "      <td>B006K2ZZ7K</td>\n",
       "      <td>A1UQRSCLF8GW1T</td>\n",
       "      <td>Michael D. Bigham \"M. Wassir\"</td>\n",
       "      <td>0</td>\n",
       "      <td>0</td>\n",
       "      <td>1</td>\n",
       "      <td>2012-10-21</td>\n",
       "      <td>Great taffy</td>\n",
       "      <td>Great taffy at a great price.  There was a wid...</td>\n",
       "      <td>140</td>\n",
       "    </tr>\n",
       "  </tbody>\n",
       "</table>\n",
       "</div>"
      ],
      "text/plain": [
       "   Id   ProductId          UserId                      ProfileName  \\\n",
       "0   1  B001E4KFG0  A3SGXH7AUHU8GW                       delmartian   \n",
       "1   2  B00813GRG4  A1D87F6ZCVE5NK                           dll pa   \n",
       "2   3  B000LQOCH0   ABXLMWJIXXAIN  Natalia Corres \"Natalia Corres\"   \n",
       "3   4  B000UA0QIQ  A395BORC6FGVXV                             Karl   \n",
       "4   5  B006K2ZZ7K  A1UQRSCLF8GW1T    Michael D. Bigham \"M. Wassir\"   \n",
       "\n",
       "   HelpfulnessNumerator  HelpfulnessDenominator  Score       Time  \\\n",
       "0                     1                       1      1 2011-04-27   \n",
       "1                     0                       0      0 2012-09-07   \n",
       "2                     1                       1      1 2008-08-18   \n",
       "3                     3                       3      0 2011-06-13   \n",
       "4                     0                       0      1 2012-10-21   \n",
       "\n",
       "                 Summary                                               Text  \\\n",
       "0  Good Quality Dog Food  I have bought several of the Vitality canned d...   \n",
       "1      Not as Advertised  Product arrived labeled as Jumbo Salted Peanut...   \n",
       "2  \"Delight\" says it all  This is a confection that has been around a fe...   \n",
       "3         Cough Medicine  If you are looking for the secret ingredient i...   \n",
       "4            Great taffy  Great taffy at a great price.  There was a wid...   \n",
       "\n",
       "   ReviewLength  \n",
       "0           263  \n",
       "1           190  \n",
       "2           509  \n",
       "3           219  \n",
       "4           140  "
      ]
     },
     "execution_count": 68,
     "metadata": {},
     "output_type": "execute_result"
    }
   ],
   "source": [
    "def partition(x): # given x it returns 1 if x>3 else returns 0\n",
    "    if x < 3:\n",
    "        return 0\n",
    "    return 1\n",
    "#changing reviews with score less than 3 to be negative(0) and greater the 3 to be positive(1)\n",
    "actual_score = data['Score']\n",
    "positive_negative = actual_score.map(partition)\n",
    "data['Score'] = positive_negative\n",
    "data.head()"
   ]
  },
  {
   "cell_type": "code",
   "execution_count": 69,
   "id": "950fe8e7",
   "metadata": {},
   "outputs": [
    {
     "data": {
      "text/plain": [
       "1    443777\n",
       "0     82037\n",
       "Name: Score, dtype: int64"
      ]
     },
     "execution_count": 69,
     "metadata": {},
     "output_type": "execute_result"
    }
   ],
   "source": [
    "data['Score'].value_counts()"
   ]
  },
  {
   "cell_type": "code",
   "execution_count": 70,
   "id": "8efa11f1",
   "metadata": {},
   "outputs": [
    {
     "data": {
      "image/png": "[encoded data removed]",
      "text/plain": [
       "<Figure size 432x288 with 1 Axes>"
      ]
     },
     "metadata": {},
     "output_type": "display_data"
    }
   ],
   "source": [
    "labels = 'Positive Reviews', 'Negative Reviews'\n",
    "sizes = [443777, 82037]\n",
    "fig1, ax1 = plt.subplots()\n",
    "ax1.pie(sizes, labels=labels, autopct='%1.1f%%', shadow=True, startangle=90)\n",
    "ax1.axis('equal')\n",
    "plt.show()"
   ]
  },
  {
   "cell_type": "code",
   "execution_count": 71,
   "id": "fd26d3aa",
   "metadata": {},
   "outputs": [
    {
     "data": {
      "text/plain": [
       "(364173, 11)"
      ]
     },
     "execution_count": 71,
     "metadata": {},
     "output_type": "execute_result"
    }
   ],
   "source": [
    "sorted_data = data.sort_values('ProductId', axis=0, ascending=True, inplace=False, kind='quicksort', na_position='last')\n",
    "# Droping Deduplication of entries\n",
    "final=sorted_data.drop_duplicates(subset={\"UserId\",\"ProfileName\",\"Time\",\"Text\"}, keep='first', inplace=False)\n",
    "final.shape"
   ]
  },
  {
   "cell_type": "code",
   "execution_count": 72,
   "id": "cf403e0a",
   "metadata": {},
   "outputs": [],
   "source": [
    "def decontracted(phrase): # this function expands english language contraction such as (that's) to ('that is')\n",
    "# specific\n",
    "    phrase = re.sub(r\"won't\", \"will not\", phrase)\n",
    "    phrase = re.sub(r\"can\\'t\", \"can not\", phrase)\n",
    "# general\n",
    "    phrase = re.sub(r\"n\\'t\", \" not\", phrase)\n",
    "    phrase = re.sub(r\"\\'re\", \" are\", phrase)\n",
    "    phrase = re.sub(r\"\\'s\", \" is\", phrase)\n",
    "    phrase = re.sub(r\"\\'d\", \" would\", phrase)\n",
    "    phrase = re.sub(r\"\\'ll\", \" will\", phrase)\n",
    "    phrase = re.sub(r\"\\'t\", \" not\", phrase)\n",
    "    phrase = re.sub(r\"\\'ve\", \" have\", phrase)\n",
    "    phrase = re.sub(r\"\\'m\", \" am\", phrase)\n",
    "    return phrase\n",
    "# https://gist.github.com/sebleier/554280\n",
    "# we are removing the words from the stop words list: 'no', 'nor', 'not'\n",
    "stopwords= set(['br', 'the', 'i', 'me', 'my', 'myself', 'we', 'our', 'ours', 'ourselves', 'you', \"you're\", \"you've\",\\\n",
    "\"you'll\", \"you'd\", 'your', 'yours', 'yourself', 'yourselves', 'he', 'him', 'his', 'himself', \\\n",
    "'she', \"she's\", 'her', 'hers', 'herself', 'it', \"it's\", 'its', 'itself', 'they', 'them', 'their',\\\n",
    "'theirs', 'themselves', 'what', 'which', 'who', 'whom', 'this', 'that', \"that'll\", 'these', 'those', \\\n",
    "'am', 'is', 'are', 'was', 'were', 'be', 'been', 'being', 'have', 'has', 'had', 'having', 'do', 'does', \\\n",
    "'did', 'doing', 'a', 'an', 'the', 'and', 'but', 'if', 'or', 'because', 'as', 'until', 'while', 'of', \\\n",
    "'at', 'by', 'for', 'with', 'about', 'against', 'between', 'into', 'through', 'during', 'before', 'after',\\\n",
    "'above', 'below', 'to', 'from', 'up', 'down', 'in', 'out', 'on', 'off', 'over', 'under', 'again', 'further',\\\n",
    "'then', 'once', 'here', 'there', 'when', 'where', 'why', 'how', 'all', 'any', 'both', 'each', 'few', 'more',\\\n",
    "'most', 'other', 'some', 'such', 'only', 'own', 'same', 'so', 'than', 'too', 'very', \\\n",
    "'s', 't', 'can', 'will', 'just', 'don', \"don't\", 'should', \"should've\", 'now', 'd', 'll', 'm', 'o', 're', \\\n",
    "'ve', 'y', 'ain', 'aren', \"aren't\", 'couldn', \"couldn't\", 'didn', \"didn't\", 'doesn', \"doesn't\", 'hadn',\\\n",
    "\"hadn't\", 'hasn', \"hasn't\", 'haven', \"haven't\", 'isn', \"isn't\", 'ma', 'mightn', \"mightn't\", 'mustn',\\\n",
    "\"mustn't\", 'needn', \"needn't\", 'shan', \"shan't\", 'shouldn', \"shouldn't\", 'wasn', \"wasn't\", 'weren', \"weren't\", \\\n",
    "'won', \"won't\", 'wouldn', \"wouldn't\"])"
   ]
  },
  {
   "cell_type": "code",
   "execution_count": 73,
   "id": "38862d05",
   "metadata": {},
   "outputs": [
    {
     "name": "stderr",
     "output_type": "stream",
     "text": [
      "100%|██████████| 364173/364173 [04:12<00:00, 1439.51it/s]\n"
     ]
    }
   ],
   "source": [
    "## Preprocessing 'Text' column\n",
    "# The Below code removes url's , html tags, words with numbers, special character, stopwords and decontracts words in the Text for each review\n",
    "preprocessed_reviews = []\n",
    "for sentance in tqdm(final['Text'].values):\n",
    "    sentance = re.sub(r\"http\\S+\", \"\", sentance)\n",
    "    sentance = BeautifulSoup(sentance, 'lxml').get_text()\n",
    "    sentance = decontracted(sentance)\n",
    "    sentance = re.sub(\"\\S*\\d\\S*\", \"\", sentance).strip()\n",
    "    sentance = re.sub('[^A-Za-z]+', ' ', sentance)\n",
    "# https://gist.github.com/sebleier/554280\n",
    "    sentance = ' '.join(e.lower() for e in sentance.split() if e.lower() not in stopwords)\n",
    "    preprocessed_reviews.append(sentance.strip())"
   ]
  },
  {
   "cell_type": "code",
   "execution_count": 74,
   "id": "9c100ece",
   "metadata": {},
   "outputs": [
    {
     "name": "stderr",
     "output_type": "stream",
     "text": [
      "100%|██████████| 364173/364173 [02:45<00:00, 2198.75it/s]\n"
     ]
    }
   ],
   "source": [
    "# Preprocessing Summary column\n",
    "# The Below code removes url's , html tags, words with numbers, special character, stopwords and decontracts words in the Summary for each rev\n",
    "preprocessed_Summary = []\n",
    "# tqdm is for printing the status bar\n",
    "for sentance in tqdm(final['Summary'].values):\n",
    "    sentance = re.sub(r\"http\\S+\", \"\", str(sentance))\n",
    "    sentance = BeautifulSoup(sentance, 'lxml').get_text()\n",
    "    sentance = decontracted(sentance)\n",
    "    sentance = re.sub(\"\\S*\\d\\S*\", \"\", sentance).strip()\n",
    "    sentance = re.sub('[^A-Za-z]+', ' ', sentance)\n",
    "    sentance = ' '.join(e.lower() for e in sentance.split() if e.lower() not in stopwords)\n",
    "    preprocessed_Summary.append(sentance.strip())"
   ]
  },
  {
   "cell_type": "code",
   "execution_count": 75,
   "id": "8d748de0",
   "metadata": {},
   "outputs": [],
   "source": [
    "# let's replace the 'Summary' and 'Text' column with the preprocessed data.\n",
    "final[\"Summary\"] = preprocessed_Summary\n",
    "final['Text'] = preprocessed_reviews\n",
    "final.drop(['Id', 'ProductId', 'UserId', 'ProfileName', 'ReviewLength'], axis = 1, inplace=True)"
   ]
  },
  {
   "cell_type": "code",
   "execution_count": 76,
   "id": "f6cb565c",
   "metadata": {},
   "outputs": [],
   "source": [
    "final.reset_index(inplace=True)"
   ]
  },
  {
   "cell_type": "code",
   "execution_count": 77,
   "id": "f4042653",
   "metadata": {},
   "outputs": [
    {
     "data": {
      "text/html": [
       "<div>\n",
       "<style scoped>\n",
       "    .dataframe tbody tr th:only-of-type {\n",
       "        vertical-align: middle;\n",
       "    }\n",
       "\n",
       "    .dataframe tbody tr th {\n",
       "        vertical-align: top;\n",
       "    }\n",
       "\n",
       "    .dataframe thead th {\n",
       "        text-align: right;\n",
       "    }\n",
       "</style>\n",
       "<table border=\"1\" class=\"dataframe\">\n",
       "  <thead>\n",
       "    <tr style=\"text-align: right;\">\n",
       "      <th></th>\n",
       "      <th>HelpfulnessNumerator</th>\n",
       "      <th>HelpfulnessDenominator</th>\n",
       "      <th>Score</th>\n",
       "      <th>Time</th>\n",
       "      <th>Summary</th>\n",
       "      <th>Text</th>\n",
       "    </tr>\n",
       "  </thead>\n",
       "  <tbody>\n",
       "    <tr>\n",
       "      <th>0</th>\n",
       "      <td>0</td>\n",
       "      <td>0</td>\n",
       "      <td>1</td>\n",
       "      <td>1999-10-08</td>\n",
       "      <td>every book educational</td>\n",
       "      <td>witty little book makes son laugh loud recite ...</td>\n",
       "    </tr>\n",
       "    <tr>\n",
       "      <th>1</th>\n",
       "      <td>1</td>\n",
       "      <td>1</td>\n",
       "      <td>1</td>\n",
       "      <td>2007-11-11</td>\n",
       "      <td>love book miss hard cover version</td>\n",
       "      <td>grew reading sendak books watching really rosi...</td>\n",
       "    </tr>\n",
       "    <tr>\n",
       "      <th>2</th>\n",
       "      <td>1</td>\n",
       "      <td>1</td>\n",
       "      <td>1</td>\n",
       "      <td>2007-10-04</td>\n",
       "      <td>chicken soup rice months</td>\n",
       "      <td>fun way children learn months year learn poems...</td>\n",
       "    </tr>\n",
       "    <tr>\n",
       "      <th>3</th>\n",
       "      <td>1</td>\n",
       "      <td>1</td>\n",
       "      <td>1</td>\n",
       "      <td>2004-02-06</td>\n",
       "      <td>good swingy rhythm reading aloud</td>\n",
       "      <td>great little book read aloud nice rhythm well ...</td>\n",
       "    </tr>\n",
       "    <tr>\n",
       "      <th>4</th>\n",
       "      <td>3</td>\n",
       "      <td>4</td>\n",
       "      <td>1</td>\n",
       "      <td>2002-04-10</td>\n",
       "      <td>great way learn months</td>\n",
       "      <td>book poetry months year goes month cute little...</td>\n",
       "    </tr>\n",
       "  </tbody>\n",
       "</table>\n",
       "</div>"
      ],
      "text/plain": [
       "   HelpfulnessNumerator  HelpfulnessDenominator  Score       Time  \\\n",
       "0                     0                       0      1 1999-10-08   \n",
       "1                     1                       1      1 2007-11-11   \n",
       "2                     1                       1      1 2007-10-04   \n",
       "3                     1                       1      1 2004-02-06   \n",
       "4                     3                       4      1 2002-04-10   \n",
       "\n",
       "                             Summary  \\\n",
       "0             every book educational   \n",
       "1  love book miss hard cover version   \n",
       "2           chicken soup rice months   \n",
       "3   good swingy rhythm reading aloud   \n",
       "4             great way learn months   \n",
       "\n",
       "                                                Text  \n",
       "0  witty little book makes son laugh loud recite ...  \n",
       "1  grew reading sendak books watching really rosi...  \n",
       "2  fun way children learn months year learn poems...  \n",
       "3  great little book read aloud nice rhythm well ...  \n",
       "4  book poetry months year goes month cute little...  "
      ]
     },
     "execution_count": 77,
     "metadata": {},
     "output_type": "execute_result"
    }
   ],
   "source": [
    "final.drop(['index'], axis=1, inplace=True)\n",
    "final.head()"
   ]
  },
  {
   "cell_type": "code",
   "execution_count": 78,
   "id": "5e4d0d7a",
   "metadata": {},
   "outputs": [],
   "source": [
    "X = final.drop(['Score'], axis=1)\n",
    "y = final['Score'].values\n",
    "# splitting the data and class labels in to train set and test set\n",
    "X_train, X_test, y_train, y_test = train_test_split(X, y, test_size=0.33, stratify=y)"
   ]
  },
  {
   "cell_type": "code",
   "execution_count": 79,
   "id": "3afc1663",
   "metadata": {},
   "outputs": [
    {
     "name": "stdout",
     "output_type": "stream",
     "text": [
      "train data shape (243995, 5)\n",
      "train data labels shape  (243995,)\n",
      "test data shape (120178, 5)\n",
      "test data labels shape (120178,)\n"
     ]
    }
   ],
   "source": [
    "print('train data shape', X_train.shape)\n",
    "print('train data labels shape ', y_train.shape)\n",
    "print('test data shape', X_test.shape)\n",
    "print('test data labels shape', y_test.shape)"
   ]
  },
  {
   "cell_type": "code",
   "execution_count": 80,
   "id": "49f1d622",
   "metadata": {},
   "outputs": [
    {
     "name": "stdout",
     "output_type": "stream",
     "text": [
      "After vectorizations using BOW\n",
      "(243995, 5000) (243995,)\n",
      "(120178, 5000) (120178,)\n"
     ]
    }
   ],
   "source": [
    "### Text feature\n",
    "# calling the CountVectorizer class with three parameters\n",
    "vectorizer = CountVectorizer(min_df=10, ngram_range=(1,4), max_features=5000)\n",
    "vectorizer.fit(X_train['Text'].values) # fitting the model with train data\n",
    "# we use the fitted CountVectorizer to convert the text to vector\n",
    "X_train_text = vectorizer.transform(X_train['Text'].values)\n",
    "X_test_text = vectorizer.transform(X_test['Text'].values)\n",
    "# getting the features\n",
    "features_text = vectorizer.get_feature_names() # we will be using this afterwords\n",
    "print(\"After vectorizations using BOW\")\n",
    "print(X_train_text.shape, y_train.shape)\n",
    "print(X_test_text.shape, y_test.shape)"
   ]
  },
  {
   "cell_type": "code",
   "execution_count": 81,
   "id": "33a8424e",
   "metadata": {},
   "outputs": [
    {
     "name": "stdout",
     "output_type": "stream",
     "text": [
      "After vectorizations using BOW\n",
      "(243995, 5000) (243995,)\n",
      "(120178, 5000) (120178,)\n"
     ]
    }
   ],
   "source": [
    "################# Summary feature ##################\n",
    "# calling the CountVectorizer class with three parameters\n",
    "vectorizer = CountVectorizer(min_df=10, ngram_range=(1,4), max_features=5000)\n",
    "vectorizer.fit(X_train['Summary'].values) # fitting the model with train data\n",
    "# we use the fitted CountVectorizer to convert the text to vector\n",
    "X_train_summary = vectorizer.transform(X_train['Summary'].values)\n",
    "X_test_summary = vectorizer.transform(X_test['Summary'].values)\n",
    "# getting the features of bow vectorization\n",
    "features_summary = vectorizer.get_feature_names()\n",
    "print(\"After vectorizations using BOW\")\n",
    "print(X_train_summary.shape, y_train.shape)\n",
    "print(X_test_summary.shape, y_test.shape)"
   ]
  },
  {
   "cell_type": "code",
   "execution_count": 82,
   "id": "49e9d2c7",
   "metadata": {},
   "outputs": [
    {
     "name": "stdout",
     "output_type": "stream",
     "text": [
      "After normalization of price feature\n",
      "(243995, 1) (243995,)\n",
      "(120178, 1) (120178,)\n",
      "====================================================================================================\n"
     ]
    }
   ],
   "source": [
    "################# \"HelpfulnessNumerator\" feature########################\n",
    "normalizer = Normalizer() # normalizing numerical features such that all numerical features are in same range.\n",
    "normalizer.fit_transform(X_train['HelpfulnessNumerator'].values.reshape(-1,1))\n",
    "X_train_help_num_norm = normalizer.transform(X_train['HelpfulnessNumerator'].values.reshape(-1,1))\n",
    "X_test_help_num_norm = normalizer.transform(X_test['HelpfulnessNumerator'].values.reshape(-1,1))\n",
    "print(\"After normalization of price feature\")\n",
    "print(X_train_help_num_norm.shape, y_train.shape)\n",
    "print(X_test_help_num_norm.shape, y_test.shape)\n",
    "print(\"=\"*100)"
   ]
  },
  {
   "cell_type": "code",
   "execution_count": 83,
   "id": "6ba39818",
   "metadata": {},
   "outputs": [
    {
     "name": "stdout",
     "output_type": "stream",
     "text": [
      "After normalization of price feature\n",
      "(243995, 1) (243995,)\n",
      "(120178, 1) (120178,)\n",
      "====================================================================================================\n"
     ]
    }
   ],
   "source": [
    "################### \"HelpfulnessDenominator\" feature###################\n",
    "normalizer = Normalizer()\n",
    "normalizer.fit(X_train['HelpfulnessDenominator'].values.reshape(-1,1))\n",
    "X_train_help_den_norm = normalizer.transform(X_train['HelpfulnessDenominator'].values.reshape(-1,1))\n",
    "X_test_help_den_norm = normalizer.transform(X_test['HelpfulnessDenominator'].values.reshape(-1,1))\n",
    "print(\"After normalization of price feature\")\n",
    "print(X_train_help_den_norm.shape, y_train.shape)\n",
    "print(X_test_help_den_norm.shape, y_test.shape)\n",
    "print(\"=\"*100)"
   ]
  },
  {
   "cell_type": "code",
   "execution_count": 84,
   "id": "a4be3bfc",
   "metadata": {},
   "outputs": [
    {
     "name": "stdout",
     "output_type": "stream",
     "text": [
      "After normalization of price feature\n",
      "(243995, 1) (243995,)\n",
      "(120178, 1) (120178,)\n",
      "====================================================================================================\n"
     ]
    }
   ],
   "source": [
    "# \"Time\" feature\n",
    "normalizer = Normalizer()\n",
    "normalizer.fit(X_train['Time'].values.reshape(-1,1))\n",
    "X_train_time_norm = normalizer.transform(X_train['Time'].values.reshape(-1,1))\n",
    "X_test_time_norm = normalizer.transform(X_test['Time'].values.reshape(-1,1))\n",
    "print(\"After normalization of price feature\")\n",
    "print(X_train_time_norm.shape, y_train.shape)\n",
    "print(X_test_time_norm.shape, y_test.shape)\n",
    "print(\"=\"*100)"
   ]
  },
  {
   "cell_type": "code",
   "execution_count": 85,
   "id": "22eee680",
   "metadata": {},
   "outputs": [
    {
     "name": "stdout",
     "output_type": "stream",
     "text": [
      "Final Data matrix with BOW representation for essay\n",
      "(243995, 10003) (243995,)\n",
      "(120178, 10003) (120178,)\n",
      "====================================================================================================\n"
     ]
    }
   ],
   "source": [
    "from scipy.sparse import hstack\n",
    "X_tr = hstack((X_train_text, X_train_summary, X_train_help_num_norm, # train data after BOW representation for 'Text' and 'Summary' feature.\n",
    "X_train_help_den_norm, X_train_time_norm)).tocsr()\n",
    "X_te = hstack((X_test_text, X_test_summary, X_test_help_num_norm, # test data after BOW representation for 'Text' and 'Summary' feature.\n",
    "X_test_help_den_norm, X_test_time_norm)).tocsr()\n",
    "print(\"Final Data matrix with BOW representation for essay\")\n",
    "print(X_tr.shape, y_train.shape)\n",
    "print(X_te.shape, y_test.shape)\n",
    "print(\"=\"*100)"
   ]
  },
  {
   "cell_type": "markdown",
   "id": "b0192243",
   "metadata": {},
   "source": [
    "### Choosing the Algorithm for the project\n",
    "    I have choosen Naive Bayes's classifier because it handles large data very well.\n",
    "    It doesn't require as much training data.\n",
    "    It handles both continuous and discrete data.\n",
    "    It is highly scalable with the number of predictors and data points. It is fast and can be used to make real-time predictions."
   ]
  },
  {
   "cell_type": "code",
   "execution_count": 86,
   "id": "ef57eba8",
   "metadata": {},
   "outputs": [],
   "source": [
    "from sklearn.model_selection import GridSearchCV\n",
    "NB_classifier = MultinomialNB(class_prior=[0.5, 0.5])\n",
    "parameters = {'alpha': [0.001, 0.05, 0.01, 0.1, 0.2, 0.3, 0.4, 0.5, 1, 2, 3, 4, 5, 10, 20, 25, 30, 50, 70, 100]} # various values of alhap's\n",
    "clf = GridSearchCV(NB_classifier, parameters, cv=5, scoring='roc_auc', return_train_score=True) # gridsearchCV with 5 fold cross validation .\n",
    "clf.fit(X_tr, y_train)\n",
    "results = pd.DataFrame.from_dict(clf.cv_results_)\n",
    "results = results.sort_values(['param_alpha'])"
   ]
  },
  {
   "cell_type": "code",
   "execution_count": 87,
   "id": "3ab835c5",
   "metadata": {},
   "outputs": [
    {
     "data": {
      "text/html": [
       "<div>\n",
       "<style scoped>\n",
       "    .dataframe tbody tr th:only-of-type {\n",
       "        vertical-align: middle;\n",
       "    }\n",
       "\n",
       "    .dataframe tbody tr th {\n",
       "        vertical-align: top;\n",
       "    }\n",
       "\n",
       "    .dataframe thead th {\n",
       "        text-align: right;\n",
       "    }\n",
       "</style>\n",
       "<table border=\"1\" class=\"dataframe\">\n",
       "  <thead>\n",
       "    <tr style=\"text-align: right;\">\n",
       "      <th></th>\n",
       "      <th>mean_fit_time</th>\n",
       "      <th>std_fit_time</th>\n",
       "      <th>mean_score_time</th>\n",
       "      <th>std_score_time</th>\n",
       "      <th>param_alpha</th>\n",
       "      <th>params</th>\n",
       "      <th>split0_test_score</th>\n",
       "      <th>split1_test_score</th>\n",
       "      <th>split2_test_score</th>\n",
       "      <th>split3_test_score</th>\n",
       "      <th>...</th>\n",
       "      <th>mean_test_score</th>\n",
       "      <th>std_test_score</th>\n",
       "      <th>rank_test_score</th>\n",
       "      <th>split0_train_score</th>\n",
       "      <th>split1_train_score</th>\n",
       "      <th>split2_train_score</th>\n",
       "      <th>split3_train_score</th>\n",
       "      <th>split4_train_score</th>\n",
       "      <th>mean_train_score</th>\n",
       "      <th>std_train_score</th>\n",
       "    </tr>\n",
       "  </thead>\n",
       "  <tbody>\n",
       "    <tr>\n",
       "      <th>0</th>\n",
       "      <td>0.133003</td>\n",
       "      <td>0.018087</td>\n",
       "      <td>0.041914</td>\n",
       "      <td>0.010095</td>\n",
       "      <td>0.001</td>\n",
       "      <td>{'alpha': 0.001}</td>\n",
       "      <td>0.964883</td>\n",
       "      <td>0.963241</td>\n",
       "      <td>0.965521</td>\n",
       "      <td>0.964273</td>\n",
       "      <td>...</td>\n",
       "      <td>0.964506</td>\n",
       "      <td>0.000753</td>\n",
       "      <td>12</td>\n",
       "      <td>0.970257</td>\n",
       "      <td>0.970567</td>\n",
       "      <td>0.970440</td>\n",
       "      <td>0.970514</td>\n",
       "      <td>0.970460</td>\n",
       "      <td>0.970447</td>\n",
       "      <td>0.000105</td>\n",
       "    </tr>\n",
       "    <tr>\n",
       "      <th>2</th>\n",
       "      <td>0.121266</td>\n",
       "      <td>0.038720</td>\n",
       "      <td>0.037398</td>\n",
       "      <td>0.004967</td>\n",
       "      <td>0.01</td>\n",
       "      <td>{'alpha': 0.01}</td>\n",
       "      <td>0.965549</td>\n",
       "      <td>0.964165</td>\n",
       "      <td>0.966132</td>\n",
       "      <td>0.965194</td>\n",
       "      <td>...</td>\n",
       "      <td>0.965261</td>\n",
       "      <td>0.000640</td>\n",
       "      <td>8</td>\n",
       "      <td>0.969942</td>\n",
       "      <td>0.970246</td>\n",
       "      <td>0.970122</td>\n",
       "      <td>0.970182</td>\n",
       "      <td>0.970126</td>\n",
       "      <td>0.970124</td>\n",
       "      <td>0.000101</td>\n",
       "    </tr>\n",
       "    <tr>\n",
       "      <th>1</th>\n",
       "      <td>0.118145</td>\n",
       "      <td>0.012818</td>\n",
       "      <td>0.063354</td>\n",
       "      <td>0.043538</td>\n",
       "      <td>0.05</td>\n",
       "      <td>{'alpha': 0.05}</td>\n",
       "      <td>0.965828</td>\n",
       "      <td>0.964618</td>\n",
       "      <td>0.966367</td>\n",
       "      <td>0.965642</td>\n",
       "      <td>...</td>\n",
       "      <td>0.965594</td>\n",
       "      <td>0.000568</td>\n",
       "      <td>6</td>\n",
       "      <td>0.969610</td>\n",
       "      <td>0.969905</td>\n",
       "      <td>0.969786</td>\n",
       "      <td>0.969831</td>\n",
       "      <td>0.969775</td>\n",
       "      <td>0.969781</td>\n",
       "      <td>0.000097</td>\n",
       "    </tr>\n",
       "    <tr>\n",
       "      <th>3</th>\n",
       "      <td>0.155285</td>\n",
       "      <td>0.036490</td>\n",
       "      <td>0.044404</td>\n",
       "      <td>0.006582</td>\n",
       "      <td>0.1</td>\n",
       "      <td>{'alpha': 0.1}</td>\n",
       "      <td>0.965891</td>\n",
       "      <td>0.964726</td>\n",
       "      <td>0.966403</td>\n",
       "      <td>0.965764</td>\n",
       "      <td>...</td>\n",
       "      <td>0.965668</td>\n",
       "      <td>0.000547</td>\n",
       "      <td>3</td>\n",
       "      <td>0.969422</td>\n",
       "      <td>0.969712</td>\n",
       "      <td>0.969596</td>\n",
       "      <td>0.969635</td>\n",
       "      <td>0.969578</td>\n",
       "      <td>0.969589</td>\n",
       "      <td>0.000095</td>\n",
       "    </tr>\n",
       "    <tr>\n",
       "      <th>4</th>\n",
       "      <td>0.138724</td>\n",
       "      <td>0.024993</td>\n",
       "      <td>0.043797</td>\n",
       "      <td>0.004802</td>\n",
       "      <td>0.2</td>\n",
       "      <td>{'alpha': 0.2}</td>\n",
       "      <td>0.965907</td>\n",
       "      <td>0.964776</td>\n",
       "      <td>0.966387</td>\n",
       "      <td>0.965828</td>\n",
       "      <td>...</td>\n",
       "      <td>0.965691</td>\n",
       "      <td>0.000530</td>\n",
       "      <td>1</td>\n",
       "      <td>0.969196</td>\n",
       "      <td>0.969479</td>\n",
       "      <td>0.969367</td>\n",
       "      <td>0.969399</td>\n",
       "      <td>0.969342</td>\n",
       "      <td>0.969357</td>\n",
       "      <td>0.000093</td>\n",
       "    </tr>\n",
       "  </tbody>\n",
       "</table>\n",
       "<p>5 rows × 21 columns</p>\n",
       "</div>"
      ],
      "text/plain": [
       "   mean_fit_time  std_fit_time  mean_score_time  std_score_time param_alpha  \\\n",
       "0       0.133003      0.018087         0.041914        0.010095       0.001   \n",
       "2       0.121266      0.038720         0.037398        0.004967        0.01   \n",
       "1       0.118145      0.012818         0.063354        0.043538        0.05   \n",
       "3       0.155285      0.036490         0.044404        0.006582         0.1   \n",
       "4       0.138724      0.024993         0.043797        0.004802         0.2   \n",
       "\n",
       "             params  split0_test_score  split1_test_score  split2_test_score  \\\n",
       "0  {'alpha': 0.001}           0.964883           0.963241           0.965521   \n",
       "2   {'alpha': 0.01}           0.965549           0.964165           0.966132   \n",
       "1   {'alpha': 0.05}           0.965828           0.964618           0.966367   \n",
       "3    {'alpha': 0.1}           0.965891           0.964726           0.966403   \n",
       "4    {'alpha': 0.2}           0.965907           0.964776           0.966387   \n",
       "\n",
       "   split3_test_score  ...  mean_test_score  std_test_score  rank_test_score  \\\n",
       "0           0.964273  ...         0.964506        0.000753               12   \n",
       "2           0.965194  ...         0.965261        0.000640                8   \n",
       "1           0.965642  ...         0.965594        0.000568                6   \n",
       "3           0.965764  ...         0.965668        0.000547                3   \n",
       "4           0.965828  ...         0.965691        0.000530                1   \n",
       "\n",
       "   split0_train_score  split1_train_score  split2_train_score  \\\n",
       "0            0.970257            0.970567            0.970440   \n",
       "2            0.969942            0.970246            0.970122   \n",
       "1            0.969610            0.969905            0.969786   \n",
       "3            0.969422            0.969712            0.969596   \n",
       "4            0.969196            0.969479            0.969367   \n",
       "\n",
       "   split3_train_score  split4_train_score  mean_train_score  std_train_score  \n",
       "0            0.970514            0.970460          0.970447         0.000105  \n",
       "2            0.970182            0.970126          0.970124         0.000101  \n",
       "1            0.969831            0.969775          0.969781         0.000097  \n",
       "3            0.969635            0.969578          0.969589         0.000095  \n",
       "4            0.969399            0.969342          0.969357         0.000093  \n",
       "\n",
       "[5 rows x 21 columns]"
      ]
     },
     "execution_count": 87,
     "metadata": {},
     "output_type": "execute_result"
    }
   ],
   "source": [
    "results.head()"
   ]
  },
  {
   "cell_type": "markdown",
   "id": "3aafa7b6",
   "metadata": {},
   "source": [
    "### Assumptions\n",
    "    From above figure(misclassification error vs optimal alpha) It is showing that classification error for each value of alpha, when alpha is increaseing the error is also increasing.\n",
    "    As I tested our model on unseen data(test data) the accuracy is 86% when alpha = 9.0\n",
    "    In confusion matrix, It is clear that out of 30k unseen data-points classifier predict 12853 +ve and 12871 -ve class label but in real 15049 were +ve and 14951 were -ve.\n",
    "    In a nutshell we can say the generalization error is low means t\n"
   ]
  },
  {
   "cell_type": "markdown",
   "id": "337a3bcf",
   "metadata": {},
   "source": [
    "### Model Evaluation & Techniques"
   ]
  },
  {
   "cell_type": "code",
   "execution_count": 88,
   "id": "6ca6d973",
   "metadata": {},
   "outputs": [
    {
     "data": {
      "image/png": "[encoded data removed]",
      "text/plain": [
       "<Figure size 432x288 with 1 Axes>"
      ]
     },
     "metadata": {
      "needs_background": "light"
     },
     "output_type": "display_data"
    }
   ],
   "source": [
    "cv_auc = results['mean_test_score'] # mean test scores for every 'alpha'\n",
    "train_auc = results['mean_train_score'] # mean train scores for every 'alpha\n",
    "alpha = list(results['param_alpha'])\n",
    "alpha=np.log(alpha) # taking log of alphas so to make the plot more readable\n",
    "plt.plot(alpha, train_auc, label='Train AUC')\n",
    "plt.plot(alpha, cv_auc, label='CV AUC')\n",
    "plt.scatter(alpha, train_auc, label='Train AUC points')\n",
    "plt.scatter(alpha, cv_auc, label='CV AUC points')\n",
    "plt.legend()\n",
    "plt.xlabel(\"log(alpha): hyperparameters\")\n",
    "plt.ylabel(\"AUC\")\n",
    "plt.title(\"Hyper parameters Vs AUC plot\")\n",
    "plt.grid()\n",
    "plt.show()"
   ]
  },
  {
   "cell_type": "code",
   "execution_count": 89,
   "id": "5f92cf9c",
   "metadata": {},
   "outputs": [
    {
     "data": {
      "text/plain": [
       "MultinomialNB(alpha=0.2, class_prior=[0.5, 0.5])"
      ]
     },
     "execution_count": 89,
     "metadata": {},
     "output_type": "execute_result"
    }
   ],
   "source": [
    "clf.best_estimator_ # using this estimator lets predict the labels of test dataset"
   ]
  },
  {
   "cell_type": "code",
   "execution_count": 90,
   "id": "21271a84",
   "metadata": {},
   "outputs": [
    {
     "data": {
      "image/png": "[encoded data removed]",
      "text/plain": [
       "<Figure size 432x288 with 1 Axes>"
      ]
     },
     "metadata": {
      "needs_background": "light"
     },
     "output_type": "display_data"
    }
   ],
   "source": [
    "NBclassifier = MultinomialNB(alpha=0.2, class_prior=[0.5, 0.5], fit_prior=True)\n",
    "NBclassifier.fit(X_tr, y_train)\n",
    "# roc_auc_score(y_true, y_score) the 2nd parameter should be probability estimates of the positive class\n",
    "# not the predicted outputs\n",
    "y_train_pred = NBclassifier.predict_proba(X_tr)[:,1] # predicted probabilities of train datapoints belonging to positive class\n",
    "y_test_pred = NBclassifier.predict_proba(X_te)[:,1] # predicted probabilities of test datapoints belonging to positive class\n",
    "train_fpr, train_tpr, tr_thresholds = roc_curve(y_train, y_train_pred) # fpr and tpr for train data\n",
    "test_fpr, test_tpr, te_thresholds = roc_curve(y_test, y_test_pred) # fpr and tpr for test data\n",
    "plt.plot(train_fpr, train_tpr, label=\"train AUC =\"+str(auc(train_fpr, train_tpr)))\n",
    "plt.plot(test_fpr, test_tpr, label=\"test AUC =\"+str(auc(test_fpr, test_tpr)))\n",
    "plt.legend()\n",
    "plt.xlabel(\"fpr\")\n",
    "plt.ylabel(\"tpr\")\n",
    "plt.title(\"ROC curve\")\n",
    "plt.grid()\n",
    "plt.show()"
   ]
  },
  {
   "cell_type": "code",
   "execution_count": 91,
   "id": "c5bed815",
   "metadata": {},
   "outputs": [],
   "source": [
    "def find_best_threshold(threshould, fpr, tpr):\n",
    "    t = threshould[np.argmax(tpr*(1-fpr))]\n",
    "# (tpr*(1-fpr)) will be maximum if your fpr is very low and tpr is very high\n",
    "    print(\"the maximum value of tpr*(1-fpr)\", max(tpr*(1-fpr)), \"for threshold\", np.round(t,3))\n",
    "    return t\n",
    "def predict_with_best_t(proba, threshould):\n",
    "    predictions = []\n",
    "    for i in proba:\n",
    "        if i>=threshould:\n",
    "            predictions.append(1)\n",
    "        else:\n",
    "            predictions.append(0)\n",
    "    return predictions"
   ]
  },
  {
   "cell_type": "code",
   "execution_count": 92,
   "id": "f9bbf5b4",
   "metadata": {},
   "outputs": [
    {
     "name": "stdout",
     "output_type": "stream",
     "text": [
      "the maximum value of tpr*(1-fpr) 0.8466851835867959 for threshold 0.502\n"
     ]
    }
   ],
   "source": [
    "from sklearn.metrics import confusion_matrix\n",
    "best_t = find_best_threshold(tr_thresholds, train_fpr, train_tpr) # getting the best threshold for separating the positive classes form negat\n",
    "test_confusion_matrix = confusion_matrix(y_test, predict_with_best_t(y_test_pred, best_t)) # calculates the confusion matrix"
   ]
  },
  {
   "cell_type": "code",
   "execution_count": 93,
   "id": "1218a887",
   "metadata": {},
   "outputs": [
    {
     "name": "stdout",
     "output_type": "stream",
     "text": [
      "Test confusion matrix\n"
     ]
    },
    {
     "data": {
      "image/png": "[encoded data removed]",
      "text/plain": [
       "<Figure size 432x288 with 1 Axes>"
      ]
     },
     "metadata": {
      "needs_background": "light"
     },
     "output_type": "display_data"
    }
   ],
   "source": [
    "group_names = ['True Neg','False Pos','False Neg','True Pos']\n",
    "group_counts = ['{0:0.0f}'.format(value) for value in test_confusion_matrix.flatten()]\n",
    "labels = [f'{v1}\\n{v2}' for v1, v2 in zip(group_names,group_counts)]\n",
    "labels = np.asarray(labels).reshape(2,2)\n",
    "print(\"Test confusion matrix\")\n",
    "sns.heatmap(test_confusion_matrix, annot=labels, fmt='', cmap='Oranges',cbar=False, xticklabels=['Prediction:Negative', 'Prediction:Positive']);"
   ]
  },
  {
   "cell_type": "code",
   "execution_count": 94,
   "id": "b59bab15",
   "metadata": {},
   "outputs": [
    {
     "data": {
      "image/png": "[encoded data removed]",
      "text/plain": [
       "<Figure size 432x288 with 2 Axes>"
      ]
     },
     "metadata": {
      "needs_background": "light"
     },
     "output_type": "display_data"
    }
   ],
   "source": [
    "class_label = [\"negative\", \"positive\"]\n",
    "df_cm = pd.DataFrame(test_confusion_matrix, index = class_label, columns = class_label)\n",
    "sns.heatmap(df_cm, annot = True, fmt = \"d\")\n",
    "plt.title(\"Confusion Matrix\")\n",
    "plt.xlabel(\"Predicted Label\")\n",
    "plt.ylabel(\"True Label\")\n",
    "plt.show()"
   ]
  },
  {
   "cell_type": "code",
   "execution_count": 95,
   "id": "08192692",
   "metadata": {},
   "outputs": [],
   "source": [
    "list_of_features = features_text + features_summary + ['HelpfulnessNumerator', 'HelpfulnessDenominator', 'Time']"
   ]
  },
  {
   "cell_type": "code",
   "execution_count": 96,
   "id": "993c9f9b",
   "metadata": {},
   "outputs": [
    {
     "name": "stdout",
     "output_type": "stream",
     "text": [
      "not\n",
      "Time\n",
      "HelpfulnessDenominator\n",
      "HelpfulnessNumerator\n",
      "like\n",
      "product\n",
      "would\n",
      "taste\n",
      "one\n",
      "good\n",
      "no\n",
      "flavor\n",
      "not\n",
      "coffee\n",
      "get\n",
      "even\n",
      "food\n",
      "tea\n",
      "buy\n",
      "amazon\n"
     ]
    }
   ],
   "source": [
    "# Top 20 features form negative class\n",
    "features = np.argsort(NBclassifier.feature_log_prob_[0]) # sorting the features log probability for negtive class\n",
    "# form low probability to high probability and getting its indice\n",
    "features = features[::-1] # reversing it form high probability to low probability indice\n",
    "for i in features[:20]: # printing top 20 features from negative calss\n",
    "    print(list_of_features[i])"
   ]
  },
  {
   "cell_type": "code",
   "execution_count": 97,
   "id": "05111b75",
   "metadata": {},
   "outputs": [
    {
     "name": "stdout",
     "output_type": "stream",
     "text": [
      "Time\n",
      "not\n",
      "HelpfulnessDenominator\n",
      "HelpfulnessNumerator\n",
      "like\n",
      "good\n",
      "great\n",
      "one\n",
      "taste\n",
      "product\n",
      "tea\n",
      "flavor\n",
      "love\n",
      "coffee\n",
      "would\n",
      "get\n",
      "no\n",
      "really\n",
      "food\n",
      "use\n"
     ]
    }
   ],
   "source": [
    "# Top 20 features form negative class\n",
    "features = np.argsort(NBclassifier.feature_log_prob_[1]) # sorting the features log probability for negtive class\n",
    "# form low probability to high probability and getting its indice\n",
    "features = features[::-1] # reversing it form high probability to low probability indice\n",
    "for i in features[:20]: # printing top 20 features from negative calss\n",
    "    print(list_of_features[i])"
   ]
  },
  {
   "cell_type": "markdown",
   "id": "11d90509",
   "metadata": {},
   "source": [
    "### Inferences & Future Scope\n",
    "\n",
    "##### Naive bayes are good at text classification task like spam filtering, sentimental analysis, RS etc.\n",
    "\n",
    "##### As we know when a model performs good on training data but poor performence on unseen data(test data)i.e. its dependent on training data only, tends to overfits and when a model perform poor performence on training data and good performence on test data i.e. it fails to learn relationship in training data tends to underfit. We need to balance between both i.e. reduce training error and balance error\n",
    "\n",
    "##### Another concept bias vs variance is also related with underfitting and overfitting. when a model has high bias and low variance tend to underfitting and its reverse- high variance and low bias called overfitting and we balanced using cross-validataion. As it is shown in below table where both models have low trainig error and test error.\n",
    "\n",
    "##### Overall, both of the models are performing well on unseen data.\n",
    "\n",
    "##### As we are not applying naive bayes on word2vec representation because it sometimes gives -ve value(i.e. if two word have 0 cosine similarity the word is completly orthogonal i.e. they are not related with each other. and 1 represents perfect relationship between word vector. whereas -ve similarity means they are perfect opposite relationship between word) and we know naive bayes assume that presence of a particular feature in a class is unrelated to presence of any other feature, which is most unlikely in real word. Although, it works well.\n",
    "\n",
    "##### And from point # 5, features are dependent or there are relationship between features. So applying naive bayes on dependent feature does not make any sense."
   ]
  },
  {
   "cell_type": "code",
   "execution_count": null,
   "id": "5a8e0941",
   "metadata": {},
   "outputs": [],
   "source": []
  }
 ],
 "metadata": {
  "kernelspec": {
   "display_name": "Python 3",
   "language": "python",
   "name": "python3"
  },
  "language_info": {
   "codemirror_mode": {
    "name": "ipython",
    "version": 3
   },
   "file_extension": ".py",
   "mimetype": "text/x-python",
   "name": "python",
   "nbconvert_exporter": "python",
   "pygments_lexer": "ipython3",
   "version": "3.7.4"
  }
 },
 "nbformat": 4,
 "nbformat_minor": 5
}
